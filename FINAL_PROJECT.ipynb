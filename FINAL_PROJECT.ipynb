{
  "nbformat": 4,
  "nbformat_minor": 0,
  "metadata": {
    "colab": {
      "name": "FINAL PROJECT",
      "provenance": [],
      "collapsed_sections": [],
      "authorship_tag": "ABX9TyMx8IYKsUb6nlhXdgm6ZxXG",
      "include_colab_link": true
    },
    "kernelspec": {
      "display_name": "Python 3",
      "name": "python3"
    },
    "language_info": {
      "name": "python"
    }
  },
  "cells": [
    {
      "cell_type": "markdown",
      "metadata": {
        "id": "view-in-github",
        "colab_type": "text"
      },
      "source": [
        "<a href=\"https://colab.research.google.com/github/DARLAVEERABRAHMAM/Brahmam_ML/blob/main/FINAL_PROJECT.ipynb\" target=\"_parent\"><img src=\"https://colab.research.google.com/assets/colab-badge.svg\" alt=\"Open In Colab\"/></a>"
      ]
    },
    {
      "cell_type": "code",
      "metadata": {
        "id": "Y4mRglmRRqZ5"
      },
      "source": [
        "from google.colab import drive"
      ],
      "execution_count": 3,
      "outputs": []
    },
    {
      "cell_type": "code",
      "metadata": {
        "colab": {
          "base_uri": "https://localhost:8080/"
        },
        "id": "NMvOnqKLSTg2",
        "outputId": "3da7a56a-8d8f-4bf2-9bca-60ef259f5eca"
      },
      "source": [
        "drive.mount('/content/drive')"
      ],
      "execution_count": 4,
      "outputs": [
        {
          "output_type": "stream",
          "name": "stdout",
          "text": [
            "Mounted at /content/drive\n"
          ]
        }
      ]
    },
    {
      "cell_type": "markdown",
      "metadata": {
        "id": "bnEMpeHrUpkx"
      },
      "source": [
        "# SUICIDES IN INDIA"
      ]
    },
    {
      "cell_type": "code",
      "metadata": {
        "id": "wrJmB6lsVRNQ"
      },
      "source": [
        "                                                            import numpy as np\n",
        "import pandas as pd\n",
        "import matplotlib.pyplot as plt\n",
        "import seaborn as sns\n",
        "import warnings\n",
        "warnings.simplefilter(\"ignore\")\n",
        "from sklearn.linear_model import LogisticRegression\n",
        "from sklearn.ensemble import RandomForestClassifier\n",
        "from sklearn.tree import DecisionTreeClassifier"
      ],
      "execution_count": 5,
      "outputs": []
    },
    {
      "cell_type": "code",
      "metadata": {
        "id": "sWB7JxDsYOtU"
      },
      "source": [
        "data=pd.read_csv('/content/drive/MyDrive/sucides in india.csv')"
      ],
      "execution_count": 6,
      "outputs": []
    },
    {
      "cell_type": "code",
      "metadata": {
        "colab": {
          "base_uri": "https://localhost:8080/",
          "height": 203
        },
        "id": "OZ5yz6x-ZNOa",
        "outputId": "754fcd45-cbbd-4e58-ae74-22e8fdbadb41"
      },
      "source": [
        "data.head()"
      ],
      "execution_count": 7,
      "outputs": [
        {
          "output_type": "execute_result",
          "data": {
            "text/html": [
              "<div>\n",
              "<style scoped>\n",
              "    .dataframe tbody tr th:only-of-type {\n",
              "        vertical-align: middle;\n",
              "    }\n",
              "\n",
              "    .dataframe tbody tr th {\n",
              "        vertical-align: top;\n",
              "    }\n",
              "\n",
              "    .dataframe thead th {\n",
              "        text-align: right;\n",
              "    }\n",
              "</style>\n",
              "<table border=\"1\" class=\"dataframe\">\n",
              "  <thead>\n",
              "    <tr style=\"text-align: right;\">\n",
              "      <th></th>\n",
              "      <th>State</th>\n",
              "      <th>Year</th>\n",
              "      <th>Type_code</th>\n",
              "      <th>Type</th>\n",
              "      <th>Gender</th>\n",
              "      <th>Age_group</th>\n",
              "      <th>Total</th>\n",
              "    </tr>\n",
              "  </thead>\n",
              "  <tbody>\n",
              "    <tr>\n",
              "      <th>0</th>\n",
              "      <td>A &amp; N Islands</td>\n",
              "      <td>2001</td>\n",
              "      <td>Causes</td>\n",
              "      <td>Illness (Aids/STD)</td>\n",
              "      <td>Female</td>\n",
              "      <td>0-14</td>\n",
              "      <td>0</td>\n",
              "    </tr>\n",
              "    <tr>\n",
              "      <th>1</th>\n",
              "      <td>A &amp; N Islands</td>\n",
              "      <td>2001</td>\n",
              "      <td>Causes</td>\n",
              "      <td>Bankruptcy or Sudden change in Economic</td>\n",
              "      <td>Female</td>\n",
              "      <td>0-14</td>\n",
              "      <td>0</td>\n",
              "    </tr>\n",
              "    <tr>\n",
              "      <th>2</th>\n",
              "      <td>A &amp; N Islands</td>\n",
              "      <td>2001</td>\n",
              "      <td>Causes</td>\n",
              "      <td>Cancellation/Non-Settlement of Marriage</td>\n",
              "      <td>Female</td>\n",
              "      <td>0-14</td>\n",
              "      <td>0</td>\n",
              "    </tr>\n",
              "    <tr>\n",
              "      <th>3</th>\n",
              "      <td>A &amp; N Islands</td>\n",
              "      <td>2001</td>\n",
              "      <td>Causes</td>\n",
              "      <td>Physical Abuse (Rape/Incest Etc.)</td>\n",
              "      <td>Female</td>\n",
              "      <td>0-14</td>\n",
              "      <td>0</td>\n",
              "    </tr>\n",
              "    <tr>\n",
              "      <th>4</th>\n",
              "      <td>A &amp; N Islands</td>\n",
              "      <td>2001</td>\n",
              "      <td>Causes</td>\n",
              "      <td>Dowry Dispute</td>\n",
              "      <td>Female</td>\n",
              "      <td>0-14</td>\n",
              "      <td>0</td>\n",
              "    </tr>\n",
              "  </tbody>\n",
              "</table>\n",
              "</div>"
            ],
            "text/plain": [
              "           State  Year Type_code  ...  Gender Age_group Total\n",
              "0  A & N Islands  2001    Causes  ...  Female      0-14     0\n",
              "1  A & N Islands  2001    Causes  ...  Female      0-14     0\n",
              "2  A & N Islands  2001    Causes  ...  Female      0-14     0\n",
              "3  A & N Islands  2001    Causes  ...  Female      0-14     0\n",
              "4  A & N Islands  2001    Causes  ...  Female      0-14     0\n",
              "\n",
              "[5 rows x 7 columns]"
            ]
          },
          "metadata": {},
          "execution_count": 7
        }
      ]
    },
    {
      "cell_type": "code",
      "metadata": {
        "colab": {
          "base_uri": "https://localhost:8080/",
          "height": 417
        },
        "id": "iQGfxHDSeUxd",
        "outputId": "9832521b-127a-47a5-9381-a9c5f0206320"
      },
      "source": [
        "data"
      ],
      "execution_count": 8,
      "outputs": [
        {
          "output_type": "execute_result",
          "data": {
            "text/html": [
              "<div>\n",
              "<style scoped>\n",
              "    .dataframe tbody tr th:only-of-type {\n",
              "        vertical-align: middle;\n",
              "    }\n",
              "\n",
              "    .dataframe tbody tr th {\n",
              "        vertical-align: top;\n",
              "    }\n",
              "\n",
              "    .dataframe thead th {\n",
              "        text-align: right;\n",
              "    }\n",
              "</style>\n",
              "<table border=\"1\" class=\"dataframe\">\n",
              "  <thead>\n",
              "    <tr style=\"text-align: right;\">\n",
              "      <th></th>\n",
              "      <th>State</th>\n",
              "      <th>Year</th>\n",
              "      <th>Type_code</th>\n",
              "      <th>Type</th>\n",
              "      <th>Gender</th>\n",
              "      <th>Age_group</th>\n",
              "      <th>Total</th>\n",
              "    </tr>\n",
              "  </thead>\n",
              "  <tbody>\n",
              "    <tr>\n",
              "      <th>0</th>\n",
              "      <td>A &amp; N Islands</td>\n",
              "      <td>2001</td>\n",
              "      <td>Causes</td>\n",
              "      <td>Illness (Aids/STD)</td>\n",
              "      <td>Female</td>\n",
              "      <td>0-14</td>\n",
              "      <td>0</td>\n",
              "    </tr>\n",
              "    <tr>\n",
              "      <th>1</th>\n",
              "      <td>A &amp; N Islands</td>\n",
              "      <td>2001</td>\n",
              "      <td>Causes</td>\n",
              "      <td>Bankruptcy or Sudden change in Economic</td>\n",
              "      <td>Female</td>\n",
              "      <td>0-14</td>\n",
              "      <td>0</td>\n",
              "    </tr>\n",
              "    <tr>\n",
              "      <th>2</th>\n",
              "      <td>A &amp; N Islands</td>\n",
              "      <td>2001</td>\n",
              "      <td>Causes</td>\n",
              "      <td>Cancellation/Non-Settlement of Marriage</td>\n",
              "      <td>Female</td>\n",
              "      <td>0-14</td>\n",
              "      <td>0</td>\n",
              "    </tr>\n",
              "    <tr>\n",
              "      <th>3</th>\n",
              "      <td>A &amp; N Islands</td>\n",
              "      <td>2001</td>\n",
              "      <td>Causes</td>\n",
              "      <td>Physical Abuse (Rape/Incest Etc.)</td>\n",
              "      <td>Female</td>\n",
              "      <td>0-14</td>\n",
              "      <td>0</td>\n",
              "    </tr>\n",
              "    <tr>\n",
              "      <th>4</th>\n",
              "      <td>A &amp; N Islands</td>\n",
              "      <td>2001</td>\n",
              "      <td>Causes</td>\n",
              "      <td>Dowry Dispute</td>\n",
              "      <td>Female</td>\n",
              "      <td>0-14</td>\n",
              "      <td>0</td>\n",
              "    </tr>\n",
              "    <tr>\n",
              "      <th>...</th>\n",
              "      <td>...</td>\n",
              "      <td>...</td>\n",
              "      <td>...</td>\n",
              "      <td>...</td>\n",
              "      <td>...</td>\n",
              "      <td>...</td>\n",
              "      <td>...</td>\n",
              "    </tr>\n",
              "    <tr>\n",
              "      <th>237514</th>\n",
              "      <td>West Bengal</td>\n",
              "      <td>2012</td>\n",
              "      <td>Social_Status</td>\n",
              "      <td>Seperated</td>\n",
              "      <td>Male</td>\n",
              "      <td>0-100+</td>\n",
              "      <td>149</td>\n",
              "    </tr>\n",
              "    <tr>\n",
              "      <th>237515</th>\n",
              "      <td>West Bengal</td>\n",
              "      <td>2012</td>\n",
              "      <td>Social_Status</td>\n",
              "      <td>Widowed/Widower</td>\n",
              "      <td>Male</td>\n",
              "      <td>0-100+</td>\n",
              "      <td>233</td>\n",
              "    </tr>\n",
              "    <tr>\n",
              "      <th>237516</th>\n",
              "      <td>West Bengal</td>\n",
              "      <td>2012</td>\n",
              "      <td>Social_Status</td>\n",
              "      <td>Married</td>\n",
              "      <td>Male</td>\n",
              "      <td>0-100+</td>\n",
              "      <td>5451</td>\n",
              "    </tr>\n",
              "    <tr>\n",
              "      <th>237517</th>\n",
              "      <td>West Bengal</td>\n",
              "      <td>2012</td>\n",
              "      <td>Social_Status</td>\n",
              "      <td>Divorcee</td>\n",
              "      <td>Male</td>\n",
              "      <td>0-100+</td>\n",
              "      <td>189</td>\n",
              "    </tr>\n",
              "    <tr>\n",
              "      <th>237518</th>\n",
              "      <td>West Bengal</td>\n",
              "      <td>2012</td>\n",
              "      <td>Social_Status</td>\n",
              "      <td>Never Married</td>\n",
              "      <td>Male</td>\n",
              "      <td>0-100+</td>\n",
              "      <td>2658</td>\n",
              "    </tr>\n",
              "  </tbody>\n",
              "</table>\n",
              "<p>237519 rows × 7 columns</p>\n",
              "</div>"
            ],
            "text/plain": [
              "                State  Year      Type_code  ...  Gender Age_group Total\n",
              "0       A & N Islands  2001         Causes  ...  Female      0-14     0\n",
              "1       A & N Islands  2001         Causes  ...  Female      0-14     0\n",
              "2       A & N Islands  2001         Causes  ...  Female      0-14     0\n",
              "3       A & N Islands  2001         Causes  ...  Female      0-14     0\n",
              "4       A & N Islands  2001         Causes  ...  Female      0-14     0\n",
              "...               ...   ...            ...  ...     ...       ...   ...\n",
              "237514    West Bengal  2012  Social_Status  ...    Male    0-100+   149\n",
              "237515    West Bengal  2012  Social_Status  ...    Male    0-100+   233\n",
              "237516    West Bengal  2012  Social_Status  ...    Male    0-100+  5451\n",
              "237517    West Bengal  2012  Social_Status  ...    Male    0-100+   189\n",
              "237518    West Bengal  2012  Social_Status  ...    Male    0-100+  2658\n",
              "\n",
              "[237519 rows x 7 columns]"
            ]
          },
          "metadata": {},
          "execution_count": 8
        }
      ]
    },
    {
      "cell_type": "code",
      "metadata": {
        "colab": {
          "base_uri": "https://localhost:8080/"
        },
        "id": "2ORPy0vtZkCw",
        "outputId": "91d30174-9f01-4202-a691-ef831d2a9375"
      },
      "source": [
        "data.info()"
      ],
      "execution_count": 9,
      "outputs": [
        {
          "output_type": "stream",
          "name": "stdout",
          "text": [
            "<class 'pandas.core.frame.DataFrame'>\n",
            "RangeIndex: 237519 entries, 0 to 237518\n",
            "Data columns (total 7 columns):\n",
            " #   Column     Non-Null Count   Dtype \n",
            "---  ------     --------------   ----- \n",
            " 0   State      237519 non-null  object\n",
            " 1   Year       237519 non-null  int64 \n",
            " 2   Type_code  237519 non-null  object\n",
            " 3   Type       237519 non-null  object\n",
            " 4   Gender     237519 non-null  object\n",
            " 5   Age_group  237519 non-null  object\n",
            " 6   Total      237519 non-null  int64 \n",
            "dtypes: int64(2), object(5)\n",
            "memory usage: 12.7+ MB\n"
          ]
        }
      ]
    },
    {
      "cell_type": "code",
      "metadata": {
        "colab": {
          "base_uri": "https://localhost:8080/",
          "height": 295
        },
        "id": "2LDcbKS4ZoRz",
        "outputId": "b99670ed-5277-4b03-b8ca-1488c870f8a0"
      },
      "source": [
        "data.describe()"
      ],
      "execution_count": 10,
      "outputs": [
        {
          "output_type": "execute_result",
          "data": {
            "text/html": [
              "<div>\n",
              "<style scoped>\n",
              "    .dataframe tbody tr th:only-of-type {\n",
              "        vertical-align: middle;\n",
              "    }\n",
              "\n",
              "    .dataframe tbody tr th {\n",
              "        vertical-align: top;\n",
              "    }\n",
              "\n",
              "    .dataframe thead th {\n",
              "        text-align: right;\n",
              "    }\n",
              "</style>\n",
              "<table border=\"1\" class=\"dataframe\">\n",
              "  <thead>\n",
              "    <tr style=\"text-align: right;\">\n",
              "      <th></th>\n",
              "      <th>Year</th>\n",
              "      <th>Total</th>\n",
              "    </tr>\n",
              "  </thead>\n",
              "  <tbody>\n",
              "    <tr>\n",
              "      <th>count</th>\n",
              "      <td>237519.000000</td>\n",
              "      <td>237519.000000</td>\n",
              "    </tr>\n",
              "    <tr>\n",
              "      <th>mean</th>\n",
              "      <td>2006.500448</td>\n",
              "      <td>55.034477</td>\n",
              "    </tr>\n",
              "    <tr>\n",
              "      <th>std</th>\n",
              "      <td>3.452240</td>\n",
              "      <td>792.749038</td>\n",
              "    </tr>\n",
              "    <tr>\n",
              "      <th>min</th>\n",
              "      <td>2001.000000</td>\n",
              "      <td>0.000000</td>\n",
              "    </tr>\n",
              "    <tr>\n",
              "      <th>25%</th>\n",
              "      <td>2004.000000</td>\n",
              "      <td>0.000000</td>\n",
              "    </tr>\n",
              "    <tr>\n",
              "      <th>50%</th>\n",
              "      <td>2007.000000</td>\n",
              "      <td>0.000000</td>\n",
              "    </tr>\n",
              "    <tr>\n",
              "      <th>75%</th>\n",
              "      <td>2010.000000</td>\n",
              "      <td>6.000000</td>\n",
              "    </tr>\n",
              "    <tr>\n",
              "      <th>max</th>\n",
              "      <td>2012.000000</td>\n",
              "      <td>63343.000000</td>\n",
              "    </tr>\n",
              "  </tbody>\n",
              "</table>\n",
              "</div>"
            ],
            "text/plain": [
              "                Year          Total\n",
              "count  237519.000000  237519.000000\n",
              "mean     2006.500448      55.034477\n",
              "std         3.452240     792.749038\n",
              "min      2001.000000       0.000000\n",
              "25%      2004.000000       0.000000\n",
              "50%      2007.000000       0.000000\n",
              "75%      2010.000000       6.000000\n",
              "max      2012.000000   63343.000000"
            ]
          },
          "metadata": {},
          "execution_count": 10
        }
      ]
    },
    {
      "cell_type": "code",
      "metadata": {
        "colab": {
          "base_uri": "https://localhost:8080/",
          "height": 357
        },
        "id": "U9YyrcxvZsDD",
        "outputId": "b45cef8c-3fcd-4a29-9690-792dc67e9f57"
      },
      "source": [
        "data.head(10)"
      ],
      "execution_count": 11,
      "outputs": [
        {
          "output_type": "execute_result",
          "data": {
            "text/html": [
              "<div>\n",
              "<style scoped>\n",
              "    .dataframe tbody tr th:only-of-type {\n",
              "        vertical-align: middle;\n",
              "    }\n",
              "\n",
              "    .dataframe tbody tr th {\n",
              "        vertical-align: top;\n",
              "    }\n",
              "\n",
              "    .dataframe thead th {\n",
              "        text-align: right;\n",
              "    }\n",
              "</style>\n",
              "<table border=\"1\" class=\"dataframe\">\n",
              "  <thead>\n",
              "    <tr style=\"text-align: right;\">\n",
              "      <th></th>\n",
              "      <th>State</th>\n",
              "      <th>Year</th>\n",
              "      <th>Type_code</th>\n",
              "      <th>Type</th>\n",
              "      <th>Gender</th>\n",
              "      <th>Age_group</th>\n",
              "      <th>Total</th>\n",
              "    </tr>\n",
              "  </thead>\n",
              "  <tbody>\n",
              "    <tr>\n",
              "      <th>0</th>\n",
              "      <td>A &amp; N Islands</td>\n",
              "      <td>2001</td>\n",
              "      <td>Causes</td>\n",
              "      <td>Illness (Aids/STD)</td>\n",
              "      <td>Female</td>\n",
              "      <td>0-14</td>\n",
              "      <td>0</td>\n",
              "    </tr>\n",
              "    <tr>\n",
              "      <th>1</th>\n",
              "      <td>A &amp; N Islands</td>\n",
              "      <td>2001</td>\n",
              "      <td>Causes</td>\n",
              "      <td>Bankruptcy or Sudden change in Economic</td>\n",
              "      <td>Female</td>\n",
              "      <td>0-14</td>\n",
              "      <td>0</td>\n",
              "    </tr>\n",
              "    <tr>\n",
              "      <th>2</th>\n",
              "      <td>A &amp; N Islands</td>\n",
              "      <td>2001</td>\n",
              "      <td>Causes</td>\n",
              "      <td>Cancellation/Non-Settlement of Marriage</td>\n",
              "      <td>Female</td>\n",
              "      <td>0-14</td>\n",
              "      <td>0</td>\n",
              "    </tr>\n",
              "    <tr>\n",
              "      <th>3</th>\n",
              "      <td>A &amp; N Islands</td>\n",
              "      <td>2001</td>\n",
              "      <td>Causes</td>\n",
              "      <td>Physical Abuse (Rape/Incest Etc.)</td>\n",
              "      <td>Female</td>\n",
              "      <td>0-14</td>\n",
              "      <td>0</td>\n",
              "    </tr>\n",
              "    <tr>\n",
              "      <th>4</th>\n",
              "      <td>A &amp; N Islands</td>\n",
              "      <td>2001</td>\n",
              "      <td>Causes</td>\n",
              "      <td>Dowry Dispute</td>\n",
              "      <td>Female</td>\n",
              "      <td>0-14</td>\n",
              "      <td>0</td>\n",
              "    </tr>\n",
              "    <tr>\n",
              "      <th>5</th>\n",
              "      <td>A &amp; N Islands</td>\n",
              "      <td>2001</td>\n",
              "      <td>Causes</td>\n",
              "      <td>Family Problems</td>\n",
              "      <td>Female</td>\n",
              "      <td>0-14</td>\n",
              "      <td>0</td>\n",
              "    </tr>\n",
              "    <tr>\n",
              "      <th>6</th>\n",
              "      <td>A &amp; N Islands</td>\n",
              "      <td>2001</td>\n",
              "      <td>Causes</td>\n",
              "      <td>Ideological Causes/Hero Worshipping</td>\n",
              "      <td>Female</td>\n",
              "      <td>0-14</td>\n",
              "      <td>0</td>\n",
              "    </tr>\n",
              "    <tr>\n",
              "      <th>7</th>\n",
              "      <td>A &amp; N Islands</td>\n",
              "      <td>2001</td>\n",
              "      <td>Causes</td>\n",
              "      <td>Other Prolonged Illness</td>\n",
              "      <td>Female</td>\n",
              "      <td>0-14</td>\n",
              "      <td>0</td>\n",
              "    </tr>\n",
              "    <tr>\n",
              "      <th>8</th>\n",
              "      <td>A &amp; N Islands</td>\n",
              "      <td>2001</td>\n",
              "      <td>Causes</td>\n",
              "      <td>Property Dispute</td>\n",
              "      <td>Female</td>\n",
              "      <td>0-14</td>\n",
              "      <td>0</td>\n",
              "    </tr>\n",
              "    <tr>\n",
              "      <th>9</th>\n",
              "      <td>A &amp; N Islands</td>\n",
              "      <td>2001</td>\n",
              "      <td>Causes</td>\n",
              "      <td>Fall in Social Reputation</td>\n",
              "      <td>Female</td>\n",
              "      <td>0-14</td>\n",
              "      <td>0</td>\n",
              "    </tr>\n",
              "  </tbody>\n",
              "</table>\n",
              "</div>"
            ],
            "text/plain": [
              "           State  Year Type_code  ...  Gender Age_group Total\n",
              "0  A & N Islands  2001    Causes  ...  Female      0-14     0\n",
              "1  A & N Islands  2001    Causes  ...  Female      0-14     0\n",
              "2  A & N Islands  2001    Causes  ...  Female      0-14     0\n",
              "3  A & N Islands  2001    Causes  ...  Female      0-14     0\n",
              "4  A & N Islands  2001    Causes  ...  Female      0-14     0\n",
              "5  A & N Islands  2001    Causes  ...  Female      0-14     0\n",
              "6  A & N Islands  2001    Causes  ...  Female      0-14     0\n",
              "7  A & N Islands  2001    Causes  ...  Female      0-14     0\n",
              "8  A & N Islands  2001    Causes  ...  Female      0-14     0\n",
              "9  A & N Islands  2001    Causes  ...  Female      0-14     0\n",
              "\n",
              "[10 rows x 7 columns]"
            ]
          },
          "metadata": {},
          "execution_count": 11
        }
      ]
    },
    {
      "cell_type": "code",
      "metadata": {
        "id": "CDhnJYU2Zx-p",
        "colab": {
          "base_uri": "https://localhost:8080/",
          "height": 357
        },
        "outputId": "48adfb26-9912-4cba-887a-7d885562a6a6"
      },
      "source": [
        "data.tail(10)"
      ],
      "execution_count": 12,
      "outputs": [
        {
          "output_type": "execute_result",
          "data": {
            "text/html": [
              "<div>\n",
              "<style scoped>\n",
              "    .dataframe tbody tr th:only-of-type {\n",
              "        vertical-align: middle;\n",
              "    }\n",
              "\n",
              "    .dataframe tbody tr th {\n",
              "        vertical-align: top;\n",
              "    }\n",
              "\n",
              "    .dataframe thead th {\n",
              "        text-align: right;\n",
              "    }\n",
              "</style>\n",
              "<table border=\"1\" class=\"dataframe\">\n",
              "  <thead>\n",
              "    <tr style=\"text-align: right;\">\n",
              "      <th></th>\n",
              "      <th>State</th>\n",
              "      <th>Year</th>\n",
              "      <th>Type_code</th>\n",
              "      <th>Type</th>\n",
              "      <th>Gender</th>\n",
              "      <th>Age_group</th>\n",
              "      <th>Total</th>\n",
              "    </tr>\n",
              "  </thead>\n",
              "  <tbody>\n",
              "    <tr>\n",
              "      <th>237509</th>\n",
              "      <td>West Bengal</td>\n",
              "      <td>2012</td>\n",
              "      <td>Social_Status</td>\n",
              "      <td>Seperated</td>\n",
              "      <td>Female</td>\n",
              "      <td>0-100+</td>\n",
              "      <td>200</td>\n",
              "    </tr>\n",
              "    <tr>\n",
              "      <th>237510</th>\n",
              "      <td>West Bengal</td>\n",
              "      <td>2012</td>\n",
              "      <td>Social_Status</td>\n",
              "      <td>Married</td>\n",
              "      <td>Female</td>\n",
              "      <td>0-100+</td>\n",
              "      <td>3927</td>\n",
              "    </tr>\n",
              "    <tr>\n",
              "      <th>237511</th>\n",
              "      <td>West Bengal</td>\n",
              "      <td>2012</td>\n",
              "      <td>Social_Status</td>\n",
              "      <td>Divorcee</td>\n",
              "      <td>Female</td>\n",
              "      <td>0-100+</td>\n",
              "      <td>182</td>\n",
              "    </tr>\n",
              "    <tr>\n",
              "      <th>237512</th>\n",
              "      <td>West Bengal</td>\n",
              "      <td>2012</td>\n",
              "      <td>Social_Status</td>\n",
              "      <td>Widowed/Widower</td>\n",
              "      <td>Female</td>\n",
              "      <td>0-100+</td>\n",
              "      <td>455</td>\n",
              "    </tr>\n",
              "    <tr>\n",
              "      <th>237513</th>\n",
              "      <td>West Bengal</td>\n",
              "      <td>2012</td>\n",
              "      <td>Social_Status</td>\n",
              "      <td>Never Married</td>\n",
              "      <td>Female</td>\n",
              "      <td>0-100+</td>\n",
              "      <td>1513</td>\n",
              "    </tr>\n",
              "    <tr>\n",
              "      <th>237514</th>\n",
              "      <td>West Bengal</td>\n",
              "      <td>2012</td>\n",
              "      <td>Social_Status</td>\n",
              "      <td>Seperated</td>\n",
              "      <td>Male</td>\n",
              "      <td>0-100+</td>\n",
              "      <td>149</td>\n",
              "    </tr>\n",
              "    <tr>\n",
              "      <th>237515</th>\n",
              "      <td>West Bengal</td>\n",
              "      <td>2012</td>\n",
              "      <td>Social_Status</td>\n",
              "      <td>Widowed/Widower</td>\n",
              "      <td>Male</td>\n",
              "      <td>0-100+</td>\n",
              "      <td>233</td>\n",
              "    </tr>\n",
              "    <tr>\n",
              "      <th>237516</th>\n",
              "      <td>West Bengal</td>\n",
              "      <td>2012</td>\n",
              "      <td>Social_Status</td>\n",
              "      <td>Married</td>\n",
              "      <td>Male</td>\n",
              "      <td>0-100+</td>\n",
              "      <td>5451</td>\n",
              "    </tr>\n",
              "    <tr>\n",
              "      <th>237517</th>\n",
              "      <td>West Bengal</td>\n",
              "      <td>2012</td>\n",
              "      <td>Social_Status</td>\n",
              "      <td>Divorcee</td>\n",
              "      <td>Male</td>\n",
              "      <td>0-100+</td>\n",
              "      <td>189</td>\n",
              "    </tr>\n",
              "    <tr>\n",
              "      <th>237518</th>\n",
              "      <td>West Bengal</td>\n",
              "      <td>2012</td>\n",
              "      <td>Social_Status</td>\n",
              "      <td>Never Married</td>\n",
              "      <td>Male</td>\n",
              "      <td>0-100+</td>\n",
              "      <td>2658</td>\n",
              "    </tr>\n",
              "  </tbody>\n",
              "</table>\n",
              "</div>"
            ],
            "text/plain": [
              "              State  Year      Type_code  ...  Gender Age_group Total\n",
              "237509  West Bengal  2012  Social_Status  ...  Female    0-100+   200\n",
              "237510  West Bengal  2012  Social_Status  ...  Female    0-100+  3927\n",
              "237511  West Bengal  2012  Social_Status  ...  Female    0-100+   182\n",
              "237512  West Bengal  2012  Social_Status  ...  Female    0-100+   455\n",
              "237513  West Bengal  2012  Social_Status  ...  Female    0-100+  1513\n",
              "237514  West Bengal  2012  Social_Status  ...    Male    0-100+   149\n",
              "237515  West Bengal  2012  Social_Status  ...    Male    0-100+   233\n",
              "237516  West Bengal  2012  Social_Status  ...    Male    0-100+  5451\n",
              "237517  West Bengal  2012  Social_Status  ...    Male    0-100+   189\n",
              "237518  West Bengal  2012  Social_Status  ...    Male    0-100+  2658\n",
              "\n",
              "[10 rows x 7 columns]"
            ]
          },
          "metadata": {},
          "execution_count": 12
        }
      ]
    },
    {
      "cell_type": "code",
      "metadata": {
        "colab": {
          "base_uri": "https://localhost:8080/",
          "height": 417
        },
        "id": "zeA5V8orZ14d",
        "outputId": "d7d9472a-04e9-403d-ddd4-1935c4dd4ac9"
      },
      "source": [
        "data['Gender']=data['Gender'].map({'Female':2,'Male':1})\n",
        "data"
      ],
      "execution_count": 13,
      "outputs": [
        {
          "output_type": "execute_result",
          "data": {
            "text/html": [
              "<div>\n",
              "<style scoped>\n",
              "    .dataframe tbody tr th:only-of-type {\n",
              "        vertical-align: middle;\n",
              "    }\n",
              "\n",
              "    .dataframe tbody tr th {\n",
              "        vertical-align: top;\n",
              "    }\n",
              "\n",
              "    .dataframe thead th {\n",
              "        text-align: right;\n",
              "    }\n",
              "</style>\n",
              "<table border=\"1\" class=\"dataframe\">\n",
              "  <thead>\n",
              "    <tr style=\"text-align: right;\">\n",
              "      <th></th>\n",
              "      <th>State</th>\n",
              "      <th>Year</th>\n",
              "      <th>Type_code</th>\n",
              "      <th>Type</th>\n",
              "      <th>Gender</th>\n",
              "      <th>Age_group</th>\n",
              "      <th>Total</th>\n",
              "    </tr>\n",
              "  </thead>\n",
              "  <tbody>\n",
              "    <tr>\n",
              "      <th>0</th>\n",
              "      <td>A &amp; N Islands</td>\n",
              "      <td>2001</td>\n",
              "      <td>Causes</td>\n",
              "      <td>Illness (Aids/STD)</td>\n",
              "      <td>2</td>\n",
              "      <td>0-14</td>\n",
              "      <td>0</td>\n",
              "    </tr>\n",
              "    <tr>\n",
              "      <th>1</th>\n",
              "      <td>A &amp; N Islands</td>\n",
              "      <td>2001</td>\n",
              "      <td>Causes</td>\n",
              "      <td>Bankruptcy or Sudden change in Economic</td>\n",
              "      <td>2</td>\n",
              "      <td>0-14</td>\n",
              "      <td>0</td>\n",
              "    </tr>\n",
              "    <tr>\n",
              "      <th>2</th>\n",
              "      <td>A &amp; N Islands</td>\n",
              "      <td>2001</td>\n",
              "      <td>Causes</td>\n",
              "      <td>Cancellation/Non-Settlement of Marriage</td>\n",
              "      <td>2</td>\n",
              "      <td>0-14</td>\n",
              "      <td>0</td>\n",
              "    </tr>\n",
              "    <tr>\n",
              "      <th>3</th>\n",
              "      <td>A &amp; N Islands</td>\n",
              "      <td>2001</td>\n",
              "      <td>Causes</td>\n",
              "      <td>Physical Abuse (Rape/Incest Etc.)</td>\n",
              "      <td>2</td>\n",
              "      <td>0-14</td>\n",
              "      <td>0</td>\n",
              "    </tr>\n",
              "    <tr>\n",
              "      <th>4</th>\n",
              "      <td>A &amp; N Islands</td>\n",
              "      <td>2001</td>\n",
              "      <td>Causes</td>\n",
              "      <td>Dowry Dispute</td>\n",
              "      <td>2</td>\n",
              "      <td>0-14</td>\n",
              "      <td>0</td>\n",
              "    </tr>\n",
              "    <tr>\n",
              "      <th>...</th>\n",
              "      <td>...</td>\n",
              "      <td>...</td>\n",
              "      <td>...</td>\n",
              "      <td>...</td>\n",
              "      <td>...</td>\n",
              "      <td>...</td>\n",
              "      <td>...</td>\n",
              "    </tr>\n",
              "    <tr>\n",
              "      <th>237514</th>\n",
              "      <td>West Bengal</td>\n",
              "      <td>2012</td>\n",
              "      <td>Social_Status</td>\n",
              "      <td>Seperated</td>\n",
              "      <td>1</td>\n",
              "      <td>0-100+</td>\n",
              "      <td>149</td>\n",
              "    </tr>\n",
              "    <tr>\n",
              "      <th>237515</th>\n",
              "      <td>West Bengal</td>\n",
              "      <td>2012</td>\n",
              "      <td>Social_Status</td>\n",
              "      <td>Widowed/Widower</td>\n",
              "      <td>1</td>\n",
              "      <td>0-100+</td>\n",
              "      <td>233</td>\n",
              "    </tr>\n",
              "    <tr>\n",
              "      <th>237516</th>\n",
              "      <td>West Bengal</td>\n",
              "      <td>2012</td>\n",
              "      <td>Social_Status</td>\n",
              "      <td>Married</td>\n",
              "      <td>1</td>\n",
              "      <td>0-100+</td>\n",
              "      <td>5451</td>\n",
              "    </tr>\n",
              "    <tr>\n",
              "      <th>237517</th>\n",
              "      <td>West Bengal</td>\n",
              "      <td>2012</td>\n",
              "      <td>Social_Status</td>\n",
              "      <td>Divorcee</td>\n",
              "      <td>1</td>\n",
              "      <td>0-100+</td>\n",
              "      <td>189</td>\n",
              "    </tr>\n",
              "    <tr>\n",
              "      <th>237518</th>\n",
              "      <td>West Bengal</td>\n",
              "      <td>2012</td>\n",
              "      <td>Social_Status</td>\n",
              "      <td>Never Married</td>\n",
              "      <td>1</td>\n",
              "      <td>0-100+</td>\n",
              "      <td>2658</td>\n",
              "    </tr>\n",
              "  </tbody>\n",
              "</table>\n",
              "<p>237519 rows × 7 columns</p>\n",
              "</div>"
            ],
            "text/plain": [
              "                State  Year      Type_code  ... Gender  Age_group Total\n",
              "0       A & N Islands  2001         Causes  ...      2       0-14     0\n",
              "1       A & N Islands  2001         Causes  ...      2       0-14     0\n",
              "2       A & N Islands  2001         Causes  ...      2       0-14     0\n",
              "3       A & N Islands  2001         Causes  ...      2       0-14     0\n",
              "4       A & N Islands  2001         Causes  ...      2       0-14     0\n",
              "...               ...   ...            ...  ...    ...        ...   ...\n",
              "237514    West Bengal  2012  Social_Status  ...      1     0-100+   149\n",
              "237515    West Bengal  2012  Social_Status  ...      1     0-100+   233\n",
              "237516    West Bengal  2012  Social_Status  ...      1     0-100+  5451\n",
              "237517    West Bengal  2012  Social_Status  ...      1     0-100+   189\n",
              "237518    West Bengal  2012  Social_Status  ...      1     0-100+  2658\n",
              "\n",
              "[237519 rows x 7 columns]"
            ]
          },
          "metadata": {},
          "execution_count": 13
        }
      ]
    },
    {
      "cell_type": "code",
      "metadata": {
        "colab": {
          "base_uri": "https://localhost:8080/",
          "height": 417
        },
        "id": "y5DqxC85aett",
        "outputId": "a11e9731-d78a-4752-a995-0d53a29db1b7"
      },
      "source": [
        "data.isnull()"
      ],
      "execution_count": 14,
      "outputs": [
        {
          "output_type": "execute_result",
          "data": {
            "text/html": [
              "<div>\n",
              "<style scoped>\n",
              "    .dataframe tbody tr th:only-of-type {\n",
              "        vertical-align: middle;\n",
              "    }\n",
              "\n",
              "    .dataframe tbody tr th {\n",
              "        vertical-align: top;\n",
              "    }\n",
              "\n",
              "    .dataframe thead th {\n",
              "        text-align: right;\n",
              "    }\n",
              "</style>\n",
              "<table border=\"1\" class=\"dataframe\">\n",
              "  <thead>\n",
              "    <tr style=\"text-align: right;\">\n",
              "      <th></th>\n",
              "      <th>State</th>\n",
              "      <th>Year</th>\n",
              "      <th>Type_code</th>\n",
              "      <th>Type</th>\n",
              "      <th>Gender</th>\n",
              "      <th>Age_group</th>\n",
              "      <th>Total</th>\n",
              "    </tr>\n",
              "  </thead>\n",
              "  <tbody>\n",
              "    <tr>\n",
              "      <th>0</th>\n",
              "      <td>False</td>\n",
              "      <td>False</td>\n",
              "      <td>False</td>\n",
              "      <td>False</td>\n",
              "      <td>False</td>\n",
              "      <td>False</td>\n",
              "      <td>False</td>\n",
              "    </tr>\n",
              "    <tr>\n",
              "      <th>1</th>\n",
              "      <td>False</td>\n",
              "      <td>False</td>\n",
              "      <td>False</td>\n",
              "      <td>False</td>\n",
              "      <td>False</td>\n",
              "      <td>False</td>\n",
              "      <td>False</td>\n",
              "    </tr>\n",
              "    <tr>\n",
              "      <th>2</th>\n",
              "      <td>False</td>\n",
              "      <td>False</td>\n",
              "      <td>False</td>\n",
              "      <td>False</td>\n",
              "      <td>False</td>\n",
              "      <td>False</td>\n",
              "      <td>False</td>\n",
              "    </tr>\n",
              "    <tr>\n",
              "      <th>3</th>\n",
              "      <td>False</td>\n",
              "      <td>False</td>\n",
              "      <td>False</td>\n",
              "      <td>False</td>\n",
              "      <td>False</td>\n",
              "      <td>False</td>\n",
              "      <td>False</td>\n",
              "    </tr>\n",
              "    <tr>\n",
              "      <th>4</th>\n",
              "      <td>False</td>\n",
              "      <td>False</td>\n",
              "      <td>False</td>\n",
              "      <td>False</td>\n",
              "      <td>False</td>\n",
              "      <td>False</td>\n",
              "      <td>False</td>\n",
              "    </tr>\n",
              "    <tr>\n",
              "      <th>...</th>\n",
              "      <td>...</td>\n",
              "      <td>...</td>\n",
              "      <td>...</td>\n",
              "      <td>...</td>\n",
              "      <td>...</td>\n",
              "      <td>...</td>\n",
              "      <td>...</td>\n",
              "    </tr>\n",
              "    <tr>\n",
              "      <th>237514</th>\n",
              "      <td>False</td>\n",
              "      <td>False</td>\n",
              "      <td>False</td>\n",
              "      <td>False</td>\n",
              "      <td>False</td>\n",
              "      <td>False</td>\n",
              "      <td>False</td>\n",
              "    </tr>\n",
              "    <tr>\n",
              "      <th>237515</th>\n",
              "      <td>False</td>\n",
              "      <td>False</td>\n",
              "      <td>False</td>\n",
              "      <td>False</td>\n",
              "      <td>False</td>\n",
              "      <td>False</td>\n",
              "      <td>False</td>\n",
              "    </tr>\n",
              "    <tr>\n",
              "      <th>237516</th>\n",
              "      <td>False</td>\n",
              "      <td>False</td>\n",
              "      <td>False</td>\n",
              "      <td>False</td>\n",
              "      <td>False</td>\n",
              "      <td>False</td>\n",
              "      <td>False</td>\n",
              "    </tr>\n",
              "    <tr>\n",
              "      <th>237517</th>\n",
              "      <td>False</td>\n",
              "      <td>False</td>\n",
              "      <td>False</td>\n",
              "      <td>False</td>\n",
              "      <td>False</td>\n",
              "      <td>False</td>\n",
              "      <td>False</td>\n",
              "    </tr>\n",
              "    <tr>\n",
              "      <th>237518</th>\n",
              "      <td>False</td>\n",
              "      <td>False</td>\n",
              "      <td>False</td>\n",
              "      <td>False</td>\n",
              "      <td>False</td>\n",
              "      <td>False</td>\n",
              "      <td>False</td>\n",
              "    </tr>\n",
              "  </tbody>\n",
              "</table>\n",
              "<p>237519 rows × 7 columns</p>\n",
              "</div>"
            ],
            "text/plain": [
              "        State   Year  Type_code   Type  Gender  Age_group  Total\n",
              "0       False  False      False  False   False      False  False\n",
              "1       False  False      False  False   False      False  False\n",
              "2       False  False      False  False   False      False  False\n",
              "3       False  False      False  False   False      False  False\n",
              "4       False  False      False  False   False      False  False\n",
              "...       ...    ...        ...    ...     ...        ...    ...\n",
              "237514  False  False      False  False   False      False  False\n",
              "237515  False  False      False  False   False      False  False\n",
              "237516  False  False      False  False   False      False  False\n",
              "237517  False  False      False  False   False      False  False\n",
              "237518  False  False      False  False   False      False  False\n",
              "\n",
              "[237519 rows x 7 columns]"
            ]
          },
          "metadata": {},
          "execution_count": 14
        }
      ]
    },
    {
      "cell_type": "code",
      "metadata": {
        "colab": {
          "base_uri": "https://localhost:8080/",
          "height": 417
        },
        "id": "-JrJ81tZawMm",
        "outputId": "2c97cabd-9fbd-4bb6-cf4f-9b9416b8a268"
      },
      "source": [
        "data.notnull()"
      ],
      "execution_count": 15,
      "outputs": [
        {
          "output_type": "execute_result",
          "data": {
            "text/html": [
              "<div>\n",
              "<style scoped>\n",
              "    .dataframe tbody tr th:only-of-type {\n",
              "        vertical-align: middle;\n",
              "    }\n",
              "\n",
              "    .dataframe tbody tr th {\n",
              "        vertical-align: top;\n",
              "    }\n",
              "\n",
              "    .dataframe thead th {\n",
              "        text-align: right;\n",
              "    }\n",
              "</style>\n",
              "<table border=\"1\" class=\"dataframe\">\n",
              "  <thead>\n",
              "    <tr style=\"text-align: right;\">\n",
              "      <th></th>\n",
              "      <th>State</th>\n",
              "      <th>Year</th>\n",
              "      <th>Type_code</th>\n",
              "      <th>Type</th>\n",
              "      <th>Gender</th>\n",
              "      <th>Age_group</th>\n",
              "      <th>Total</th>\n",
              "    </tr>\n",
              "  </thead>\n",
              "  <tbody>\n",
              "    <tr>\n",
              "      <th>0</th>\n",
              "      <td>True</td>\n",
              "      <td>True</td>\n",
              "      <td>True</td>\n",
              "      <td>True</td>\n",
              "      <td>True</td>\n",
              "      <td>True</td>\n",
              "      <td>True</td>\n",
              "    </tr>\n",
              "    <tr>\n",
              "      <th>1</th>\n",
              "      <td>True</td>\n",
              "      <td>True</td>\n",
              "      <td>True</td>\n",
              "      <td>True</td>\n",
              "      <td>True</td>\n",
              "      <td>True</td>\n",
              "      <td>True</td>\n",
              "    </tr>\n",
              "    <tr>\n",
              "      <th>2</th>\n",
              "      <td>True</td>\n",
              "      <td>True</td>\n",
              "      <td>True</td>\n",
              "      <td>True</td>\n",
              "      <td>True</td>\n",
              "      <td>True</td>\n",
              "      <td>True</td>\n",
              "    </tr>\n",
              "    <tr>\n",
              "      <th>3</th>\n",
              "      <td>True</td>\n",
              "      <td>True</td>\n",
              "      <td>True</td>\n",
              "      <td>True</td>\n",
              "      <td>True</td>\n",
              "      <td>True</td>\n",
              "      <td>True</td>\n",
              "    </tr>\n",
              "    <tr>\n",
              "      <th>4</th>\n",
              "      <td>True</td>\n",
              "      <td>True</td>\n",
              "      <td>True</td>\n",
              "      <td>True</td>\n",
              "      <td>True</td>\n",
              "      <td>True</td>\n",
              "      <td>True</td>\n",
              "    </tr>\n",
              "    <tr>\n",
              "      <th>...</th>\n",
              "      <td>...</td>\n",
              "      <td>...</td>\n",
              "      <td>...</td>\n",
              "      <td>...</td>\n",
              "      <td>...</td>\n",
              "      <td>...</td>\n",
              "      <td>...</td>\n",
              "    </tr>\n",
              "    <tr>\n",
              "      <th>237514</th>\n",
              "      <td>True</td>\n",
              "      <td>True</td>\n",
              "      <td>True</td>\n",
              "      <td>True</td>\n",
              "      <td>True</td>\n",
              "      <td>True</td>\n",
              "      <td>True</td>\n",
              "    </tr>\n",
              "    <tr>\n",
              "      <th>237515</th>\n",
              "      <td>True</td>\n",
              "      <td>True</td>\n",
              "      <td>True</td>\n",
              "      <td>True</td>\n",
              "      <td>True</td>\n",
              "      <td>True</td>\n",
              "      <td>True</td>\n",
              "    </tr>\n",
              "    <tr>\n",
              "      <th>237516</th>\n",
              "      <td>True</td>\n",
              "      <td>True</td>\n",
              "      <td>True</td>\n",
              "      <td>True</td>\n",
              "      <td>True</td>\n",
              "      <td>True</td>\n",
              "      <td>True</td>\n",
              "    </tr>\n",
              "    <tr>\n",
              "      <th>237517</th>\n",
              "      <td>True</td>\n",
              "      <td>True</td>\n",
              "      <td>True</td>\n",
              "      <td>True</td>\n",
              "      <td>True</td>\n",
              "      <td>True</td>\n",
              "      <td>True</td>\n",
              "    </tr>\n",
              "    <tr>\n",
              "      <th>237518</th>\n",
              "      <td>True</td>\n",
              "      <td>True</td>\n",
              "      <td>True</td>\n",
              "      <td>True</td>\n",
              "      <td>True</td>\n",
              "      <td>True</td>\n",
              "      <td>True</td>\n",
              "    </tr>\n",
              "  </tbody>\n",
              "</table>\n",
              "<p>237519 rows × 7 columns</p>\n",
              "</div>"
            ],
            "text/plain": [
              "        State  Year  Type_code  Type  Gender  Age_group  Total\n",
              "0        True  True       True  True    True       True   True\n",
              "1        True  True       True  True    True       True   True\n",
              "2        True  True       True  True    True       True   True\n",
              "3        True  True       True  True    True       True   True\n",
              "4        True  True       True  True    True       True   True\n",
              "...       ...   ...        ...   ...     ...        ...    ...\n",
              "237514   True  True       True  True    True       True   True\n",
              "237515   True  True       True  True    True       True   True\n",
              "237516   True  True       True  True    True       True   True\n",
              "237517   True  True       True  True    True       True   True\n",
              "237518   True  True       True  True    True       True   True\n",
              "\n",
              "[237519 rows x 7 columns]"
            ]
          },
          "metadata": {},
          "execution_count": 15
        }
      ]
    },
    {
      "cell_type": "code",
      "metadata": {
        "colab": {
          "base_uri": "https://localhost:8080/"
        },
        "id": "wPPHzM-ra16k",
        "outputId": "33a17aca-0abe-4e12-c666-59dbbb18076f"
      },
      "source": [
        "data.isnull().sum()"
      ],
      "execution_count": 16,
      "outputs": [
        {
          "output_type": "execute_result",
          "data": {
            "text/plain": [
              "State        0\n",
              "Year         0\n",
              "Type_code    0\n",
              "Type         0\n",
              "Gender       0\n",
              "Age_group    0\n",
              "Total        0\n",
              "dtype: int64"
            ]
          },
          "metadata": {},
          "execution_count": 16
        }
      ]
    },
    {
      "cell_type": "code",
      "metadata": {
        "colab": {
          "base_uri": "https://localhost:8080/"
        },
        "id": "00qPyO8ta7ah",
        "outputId": "ee0a90c2-ccf5-4272-b35c-69896fb4a928"
      },
      "source": [
        "data.notnull().sum()"
      ],
      "execution_count": 17,
      "outputs": [
        {
          "output_type": "execute_result",
          "data": {
            "text/plain": [
              "State        237519\n",
              "Year         237519\n",
              "Type_code    237519\n",
              "Type         237519\n",
              "Gender       237519\n",
              "Age_group    237519\n",
              "Total        237519\n",
              "dtype: int64"
            ]
          },
          "metadata": {},
          "execution_count": 17
        }
      ]
    },
    {
      "cell_type": "code",
      "metadata": {
        "colab": {
          "base_uri": "https://localhost:8080/"
        },
        "id": "OA7U6uelbBqS",
        "outputId": "a50176d6-9aac-4bd5-b105-ad58fd528fc6"
      },
      "source": [
        "data.shape"
      ],
      "execution_count": 18,
      "outputs": [
        {
          "output_type": "execute_result",
          "data": {
            "text/plain": [
              "(237519, 7)"
            ]
          },
          "metadata": {},
          "execution_count": 18
        }
      ]
    },
    {
      "cell_type": "code",
      "metadata": {
        "colab": {
          "base_uri": "https://localhost:8080/"
        },
        "id": "7mffV774bE9X",
        "outputId": "69c25bad-e49e-41ba-bd0a-76f882c03277"
      },
      "source": [
        "data['Total'].value_counts()"
      ],
      "execution_count": 19,
      "outputs": [
        {
          "output_type": "execute_result",
          "data": {
            "text/plain": [
              "0        135481\n",
              "1         16047\n",
              "2          9942\n",
              "3          6704\n",
              "4          5121\n",
              "          ...  \n",
              "17614         1\n",
              "1606          1\n",
              "1734          1\n",
              "8133          1\n",
              "13369         1\n",
              "Name: Total, Length: 2180, dtype: int64"
            ]
          },
          "metadata": {},
          "execution_count": 19
        }
      ]
    },
    {
      "cell_type": "code",
      "metadata": {
        "colab": {
          "base_uri": "https://localhost:8080/",
          "height": 417
        },
        "id": "hivUapGbc7gB",
        "outputId": "7a2f6efa-4552-4af4-b85b-586f1c0f4f51"
      },
      "source": [
        "data.drop_duplicates()"
      ],
      "execution_count": 20,
      "outputs": [
        {
          "output_type": "execute_result",
          "data": {
            "text/html": [
              "<div>\n",
              "<style scoped>\n",
              "    .dataframe tbody tr th:only-of-type {\n",
              "        vertical-align: middle;\n",
              "    }\n",
              "\n",
              "    .dataframe tbody tr th {\n",
              "        vertical-align: top;\n",
              "    }\n",
              "\n",
              "    .dataframe thead th {\n",
              "        text-align: right;\n",
              "    }\n",
              "</style>\n",
              "<table border=\"1\" class=\"dataframe\">\n",
              "  <thead>\n",
              "    <tr style=\"text-align: right;\">\n",
              "      <th></th>\n",
              "      <th>State</th>\n",
              "      <th>Year</th>\n",
              "      <th>Type_code</th>\n",
              "      <th>Type</th>\n",
              "      <th>Gender</th>\n",
              "      <th>Age_group</th>\n",
              "      <th>Total</th>\n",
              "    </tr>\n",
              "  </thead>\n",
              "  <tbody>\n",
              "    <tr>\n",
              "      <th>0</th>\n",
              "      <td>A &amp; N Islands</td>\n",
              "      <td>2001</td>\n",
              "      <td>Causes</td>\n",
              "      <td>Illness (Aids/STD)</td>\n",
              "      <td>2</td>\n",
              "      <td>0-14</td>\n",
              "      <td>0</td>\n",
              "    </tr>\n",
              "    <tr>\n",
              "      <th>1</th>\n",
              "      <td>A &amp; N Islands</td>\n",
              "      <td>2001</td>\n",
              "      <td>Causes</td>\n",
              "      <td>Bankruptcy or Sudden change in Economic</td>\n",
              "      <td>2</td>\n",
              "      <td>0-14</td>\n",
              "      <td>0</td>\n",
              "    </tr>\n",
              "    <tr>\n",
              "      <th>2</th>\n",
              "      <td>A &amp; N Islands</td>\n",
              "      <td>2001</td>\n",
              "      <td>Causes</td>\n",
              "      <td>Cancellation/Non-Settlement of Marriage</td>\n",
              "      <td>2</td>\n",
              "      <td>0-14</td>\n",
              "      <td>0</td>\n",
              "    </tr>\n",
              "    <tr>\n",
              "      <th>3</th>\n",
              "      <td>A &amp; N Islands</td>\n",
              "      <td>2001</td>\n",
              "      <td>Causes</td>\n",
              "      <td>Physical Abuse (Rape/Incest Etc.)</td>\n",
              "      <td>2</td>\n",
              "      <td>0-14</td>\n",
              "      <td>0</td>\n",
              "    </tr>\n",
              "    <tr>\n",
              "      <th>4</th>\n",
              "      <td>A &amp; N Islands</td>\n",
              "      <td>2001</td>\n",
              "      <td>Causes</td>\n",
              "      <td>Dowry Dispute</td>\n",
              "      <td>2</td>\n",
              "      <td>0-14</td>\n",
              "      <td>0</td>\n",
              "    </tr>\n",
              "    <tr>\n",
              "      <th>...</th>\n",
              "      <td>...</td>\n",
              "      <td>...</td>\n",
              "      <td>...</td>\n",
              "      <td>...</td>\n",
              "      <td>...</td>\n",
              "      <td>...</td>\n",
              "      <td>...</td>\n",
              "    </tr>\n",
              "    <tr>\n",
              "      <th>237514</th>\n",
              "      <td>West Bengal</td>\n",
              "      <td>2012</td>\n",
              "      <td>Social_Status</td>\n",
              "      <td>Seperated</td>\n",
              "      <td>1</td>\n",
              "      <td>0-100+</td>\n",
              "      <td>149</td>\n",
              "    </tr>\n",
              "    <tr>\n",
              "      <th>237515</th>\n",
              "      <td>West Bengal</td>\n",
              "      <td>2012</td>\n",
              "      <td>Social_Status</td>\n",
              "      <td>Widowed/Widower</td>\n",
              "      <td>1</td>\n",
              "      <td>0-100+</td>\n",
              "      <td>233</td>\n",
              "    </tr>\n",
              "    <tr>\n",
              "      <th>237516</th>\n",
              "      <td>West Bengal</td>\n",
              "      <td>2012</td>\n",
              "      <td>Social_Status</td>\n",
              "      <td>Married</td>\n",
              "      <td>1</td>\n",
              "      <td>0-100+</td>\n",
              "      <td>5451</td>\n",
              "    </tr>\n",
              "    <tr>\n",
              "      <th>237517</th>\n",
              "      <td>West Bengal</td>\n",
              "      <td>2012</td>\n",
              "      <td>Social_Status</td>\n",
              "      <td>Divorcee</td>\n",
              "      <td>1</td>\n",
              "      <td>0-100+</td>\n",
              "      <td>189</td>\n",
              "    </tr>\n",
              "    <tr>\n",
              "      <th>237518</th>\n",
              "      <td>West Bengal</td>\n",
              "      <td>2012</td>\n",
              "      <td>Social_Status</td>\n",
              "      <td>Never Married</td>\n",
              "      <td>1</td>\n",
              "      <td>0-100+</td>\n",
              "      <td>2658</td>\n",
              "    </tr>\n",
              "  </tbody>\n",
              "</table>\n",
              "<p>237519 rows × 7 columns</p>\n",
              "</div>"
            ],
            "text/plain": [
              "                State  Year      Type_code  ... Gender  Age_group Total\n",
              "0       A & N Islands  2001         Causes  ...      2       0-14     0\n",
              "1       A & N Islands  2001         Causes  ...      2       0-14     0\n",
              "2       A & N Islands  2001         Causes  ...      2       0-14     0\n",
              "3       A & N Islands  2001         Causes  ...      2       0-14     0\n",
              "4       A & N Islands  2001         Causes  ...      2       0-14     0\n",
              "...               ...   ...            ...  ...    ...        ...   ...\n",
              "237514    West Bengal  2012  Social_Status  ...      1     0-100+   149\n",
              "237515    West Bengal  2012  Social_Status  ...      1     0-100+   233\n",
              "237516    West Bengal  2012  Social_Status  ...      1     0-100+  5451\n",
              "237517    West Bengal  2012  Social_Status  ...      1     0-100+   189\n",
              "237518    West Bengal  2012  Social_Status  ...      1     0-100+  2658\n",
              "\n",
              "[237519 rows x 7 columns]"
            ]
          },
          "metadata": {},
          "execution_count": 20
        }
      ]
    },
    {
      "cell_type": "code",
      "metadata": {
        "colab": {
          "base_uri": "https://localhost:8080/",
          "height": 417
        },
        "id": "fluY8EufbQWR",
        "outputId": "6898e083-9a57-4cdd-952d-fbc6ec6ded68"
      },
      "source": [
        "data=data.dropna()\n",
        "data"
      ],
      "execution_count": 21,
      "outputs": [
        {
          "output_type": "execute_result",
          "data": {
            "text/html": [
              "<div>\n",
              "<style scoped>\n",
              "    .dataframe tbody tr th:only-of-type {\n",
              "        vertical-align: middle;\n",
              "    }\n",
              "\n",
              "    .dataframe tbody tr th {\n",
              "        vertical-align: top;\n",
              "    }\n",
              "\n",
              "    .dataframe thead th {\n",
              "        text-align: right;\n",
              "    }\n",
              "</style>\n",
              "<table border=\"1\" class=\"dataframe\">\n",
              "  <thead>\n",
              "    <tr style=\"text-align: right;\">\n",
              "      <th></th>\n",
              "      <th>State</th>\n",
              "      <th>Year</th>\n",
              "      <th>Type_code</th>\n",
              "      <th>Type</th>\n",
              "      <th>Gender</th>\n",
              "      <th>Age_group</th>\n",
              "      <th>Total</th>\n",
              "    </tr>\n",
              "  </thead>\n",
              "  <tbody>\n",
              "    <tr>\n",
              "      <th>0</th>\n",
              "      <td>A &amp; N Islands</td>\n",
              "      <td>2001</td>\n",
              "      <td>Causes</td>\n",
              "      <td>Illness (Aids/STD)</td>\n",
              "      <td>2</td>\n",
              "      <td>0-14</td>\n",
              "      <td>0</td>\n",
              "    </tr>\n",
              "    <tr>\n",
              "      <th>1</th>\n",
              "      <td>A &amp; N Islands</td>\n",
              "      <td>2001</td>\n",
              "      <td>Causes</td>\n",
              "      <td>Bankruptcy or Sudden change in Economic</td>\n",
              "      <td>2</td>\n",
              "      <td>0-14</td>\n",
              "      <td>0</td>\n",
              "    </tr>\n",
              "    <tr>\n",
              "      <th>2</th>\n",
              "      <td>A &amp; N Islands</td>\n",
              "      <td>2001</td>\n",
              "      <td>Causes</td>\n",
              "      <td>Cancellation/Non-Settlement of Marriage</td>\n",
              "      <td>2</td>\n",
              "      <td>0-14</td>\n",
              "      <td>0</td>\n",
              "    </tr>\n",
              "    <tr>\n",
              "      <th>3</th>\n",
              "      <td>A &amp; N Islands</td>\n",
              "      <td>2001</td>\n",
              "      <td>Causes</td>\n",
              "      <td>Physical Abuse (Rape/Incest Etc.)</td>\n",
              "      <td>2</td>\n",
              "      <td>0-14</td>\n",
              "      <td>0</td>\n",
              "    </tr>\n",
              "    <tr>\n",
              "      <th>4</th>\n",
              "      <td>A &amp; N Islands</td>\n",
              "      <td>2001</td>\n",
              "      <td>Causes</td>\n",
              "      <td>Dowry Dispute</td>\n",
              "      <td>2</td>\n",
              "      <td>0-14</td>\n",
              "      <td>0</td>\n",
              "    </tr>\n",
              "    <tr>\n",
              "      <th>...</th>\n",
              "      <td>...</td>\n",
              "      <td>...</td>\n",
              "      <td>...</td>\n",
              "      <td>...</td>\n",
              "      <td>...</td>\n",
              "      <td>...</td>\n",
              "      <td>...</td>\n",
              "    </tr>\n",
              "    <tr>\n",
              "      <th>237514</th>\n",
              "      <td>West Bengal</td>\n",
              "      <td>2012</td>\n",
              "      <td>Social_Status</td>\n",
              "      <td>Seperated</td>\n",
              "      <td>1</td>\n",
              "      <td>0-100+</td>\n",
              "      <td>149</td>\n",
              "    </tr>\n",
              "    <tr>\n",
              "      <th>237515</th>\n",
              "      <td>West Bengal</td>\n",
              "      <td>2012</td>\n",
              "      <td>Social_Status</td>\n",
              "      <td>Widowed/Widower</td>\n",
              "      <td>1</td>\n",
              "      <td>0-100+</td>\n",
              "      <td>233</td>\n",
              "    </tr>\n",
              "    <tr>\n",
              "      <th>237516</th>\n",
              "      <td>West Bengal</td>\n",
              "      <td>2012</td>\n",
              "      <td>Social_Status</td>\n",
              "      <td>Married</td>\n",
              "      <td>1</td>\n",
              "      <td>0-100+</td>\n",
              "      <td>5451</td>\n",
              "    </tr>\n",
              "    <tr>\n",
              "      <th>237517</th>\n",
              "      <td>West Bengal</td>\n",
              "      <td>2012</td>\n",
              "      <td>Social_Status</td>\n",
              "      <td>Divorcee</td>\n",
              "      <td>1</td>\n",
              "      <td>0-100+</td>\n",
              "      <td>189</td>\n",
              "    </tr>\n",
              "    <tr>\n",
              "      <th>237518</th>\n",
              "      <td>West Bengal</td>\n",
              "      <td>2012</td>\n",
              "      <td>Social_Status</td>\n",
              "      <td>Never Married</td>\n",
              "      <td>1</td>\n",
              "      <td>0-100+</td>\n",
              "      <td>2658</td>\n",
              "    </tr>\n",
              "  </tbody>\n",
              "</table>\n",
              "<p>237519 rows × 7 columns</p>\n",
              "</div>"
            ],
            "text/plain": [
              "                State  Year      Type_code  ... Gender  Age_group Total\n",
              "0       A & N Islands  2001         Causes  ...      2       0-14     0\n",
              "1       A & N Islands  2001         Causes  ...      2       0-14     0\n",
              "2       A & N Islands  2001         Causes  ...      2       0-14     0\n",
              "3       A & N Islands  2001         Causes  ...      2       0-14     0\n",
              "4       A & N Islands  2001         Causes  ...      2       0-14     0\n",
              "...               ...   ...            ...  ...    ...        ...   ...\n",
              "237514    West Bengal  2012  Social_Status  ...      1     0-100+   149\n",
              "237515    West Bengal  2012  Social_Status  ...      1     0-100+   233\n",
              "237516    West Bengal  2012  Social_Status  ...      1     0-100+  5451\n",
              "237517    West Bengal  2012  Social_Status  ...      1     0-100+   189\n",
              "237518    West Bengal  2012  Social_Status  ...      1     0-100+  2658\n",
              "\n",
              "[237519 rows x 7 columns]"
            ]
          },
          "metadata": {},
          "execution_count": 21
        }
      ]
    },
    {
      "cell_type": "code",
      "metadata": {
        "colab": {
          "base_uri": "https://localhost:8080/"
        },
        "id": "2-iaelBwco-Q",
        "outputId": "a6d1e47d-7b5f-404b-e0a7-ebb55a725c14"
      },
      "source": [
        "data['State'].unique()"
      ],
      "execution_count": 22,
      "outputs": [
        {
          "output_type": "execute_result",
          "data": {
            "text/plain": [
              "array(['A & N Islands', 'Andhra Pradesh', 'Arunachal Pradesh', 'Assam',\n",
              "       'Bihar', 'Chandigarh', 'Chhattisgarh', 'D & N Haveli',\n",
              "       'Daman & Diu', 'Delhi (Ut)', 'Goa', 'Gujarat', 'Haryana',\n",
              "       'Himachal Pradesh', 'Jammu & Kashmir', 'Jharkhand', 'Karnataka',\n",
              "       'Kerala', 'Lakshadweep', 'Madhya Pradesh', 'Maharashtra',\n",
              "       'Manipur', 'Meghalaya', 'Mizoram', 'Nagaland', 'Odisha',\n",
              "       'Puducherry', 'Punjab', 'Rajasthan', 'Sikkim', 'Tamil Nadu',\n",
              "       'Total (All India)', 'Total (States)', 'Total (Uts)', 'Tripura',\n",
              "       'Uttar Pradesh', 'Uttarakhand', 'West Bengal'], dtype=object)"
            ]
          },
          "metadata": {},
          "execution_count": 22
        }
      ]
    },
    {
      "cell_type": "code",
      "metadata": {
        "colab": {
          "base_uri": "https://localhost:8080/"
        },
        "id": "agcp9wdDg5LA",
        "outputId": "e79cce19-f8e5-4c82-8c65-82df6c8e9a25"
      },
      "source": [
        "data['Age_group'].unique()"
      ],
      "execution_count": 23,
      "outputs": [
        {
          "output_type": "execute_result",
          "data": {
            "text/plain": [
              "array(['0-14', '15-29', '30-44', '45-59', '60+', '0-100+'], dtype=object)"
            ]
          },
          "metadata": {},
          "execution_count": 23
        }
      ]
    },
    {
      "cell_type": "code",
      "metadata": {
        "colab": {
          "base_uri": "https://localhost:8080/"
        },
        "id": "2zVZmBmbj16U",
        "outputId": "92f125f6-e431-471a-ed85-744880e711f2"
      },
      "source": [
        "df=data\n",
        "print(df)"
      ],
      "execution_count": 24,
      "outputs": [
        {
          "output_type": "stream",
          "name": "stdout",
          "text": [
            "                State  Year      Type_code  ... Gender  Age_group Total\n",
            "0       A & N Islands  2001         Causes  ...      2       0-14     0\n",
            "1       A & N Islands  2001         Causes  ...      2       0-14     0\n",
            "2       A & N Islands  2001         Causes  ...      2       0-14     0\n",
            "3       A & N Islands  2001         Causes  ...      2       0-14     0\n",
            "4       A & N Islands  2001         Causes  ...      2       0-14     0\n",
            "...               ...   ...            ...  ...    ...        ...   ...\n",
            "237514    West Bengal  2012  Social_Status  ...      1     0-100+   149\n",
            "237515    West Bengal  2012  Social_Status  ...      1     0-100+   233\n",
            "237516    West Bengal  2012  Social_Status  ...      1     0-100+  5451\n",
            "237517    West Bengal  2012  Social_Status  ...      1     0-100+   189\n",
            "237518    West Bengal  2012  Social_Status  ...      1     0-100+  2658\n",
            "\n",
            "[237519 rows x 7 columns]\n"
          ]
        }
      ]
    },
    {
      "cell_type": "code",
      "metadata": {
        "colab": {
          "base_uri": "https://localhost:8080/",
          "height": 300
        },
        "id": "-3aLp_ECfrvQ",
        "outputId": "a2698ff3-92bf-43bd-cbb7-613344769048"
      },
      "source": [
        "sns.barplot(x='Gender',y='Total',data=df)"
      ],
      "execution_count": 25,
      "outputs": [
        {
          "output_type": "execute_result",
          "data": {
            "text/plain": [
              "<matplotlib.axes._subplots.AxesSubplot at 0x7f5ca7e5aa90>"
            ]
          },
          "metadata": {},
          "execution_count": 25
        },
        {
          "output_type": "display_data",
          "data": {
            "image/png": "[encoded data removed]",
            "text/plain": [
              "<Figure size 432x288 with 1 Axes>"
            ]
          },
          "metadata": {
            "needs_background": "light"
          }
        }
      ]
    },
    {
      "cell_type": "code",
      "metadata": {
        "colab": {
          "base_uri": "https://localhost:8080/",
          "height": 1000
        },
        "id": "dWgO2SG1kDPp",
        "outputId": "d59be7a5-6285-48b3-eab4-4e989a3f0bb9"
      },
      "source": [
        "bystate = pd.DataFrame(data['Total'].groupby(data['State']).sum())\n",
        "bystate = bystate.reset_index().sort_values('Total',ascending =False)\n",
        "bystate"
      ],
      "execution_count": 26,
      "outputs": [
        {
          "output_type": "execute_result",
          "data": {
            "text/html": [
              "<div>\n",
              "<style scoped>\n",
              "    .dataframe tbody tr th:only-of-type {\n",
              "        vertical-align: middle;\n",
              "    }\n",
              "\n",
              "    .dataframe tbody tr th {\n",
              "        vertical-align: top;\n",
              "    }\n",
              "\n",
              "    .dataframe thead th {\n",
              "        text-align: right;\n",
              "    }\n",
              "</style>\n",
              "<table border=\"1\" class=\"dataframe\">\n",
              "  <thead>\n",
              "    <tr style=\"text-align: right;\">\n",
              "      <th></th>\n",
              "      <th>State</th>\n",
              "      <th>Total</th>\n",
              "    </tr>\n",
              "  </thead>\n",
              "  <tbody>\n",
              "    <tr>\n",
              "      <th>31</th>\n",
              "      <td>Total (All India)</td>\n",
              "      <td>2911862</td>\n",
              "    </tr>\n",
              "    <tr>\n",
              "      <th>32</th>\n",
              "      <td>Total (States)</td>\n",
              "      <td>2858026</td>\n",
              "    </tr>\n",
              "    <tr>\n",
              "      <th>20</th>\n",
              "      <td>Maharashtra</td>\n",
              "      <td>901945</td>\n",
              "    </tr>\n",
              "    <tr>\n",
              "      <th>37</th>\n",
              "      <td>West Bengal</td>\n",
              "      <td>849936</td>\n",
              "    </tr>\n",
              "    <tr>\n",
              "      <th>30</th>\n",
              "      <td>Tamil Nadu</td>\n",
              "      <td>818691</td>\n",
              "    </tr>\n",
              "    <tr>\n",
              "      <th>1</th>\n",
              "      <td>Andhra Pradesh</td>\n",
              "      <td>814059</td>\n",
              "    </tr>\n",
              "    <tr>\n",
              "      <th>16</th>\n",
              "      <td>Karnataka</td>\n",
              "      <td>734825</td>\n",
              "    </tr>\n",
              "    <tr>\n",
              "      <th>17</th>\n",
              "      <td>Kerala</td>\n",
              "      <td>538946</td>\n",
              "    </tr>\n",
              "    <tr>\n",
              "      <th>19</th>\n",
              "      <td>Madhya Pradesh</td>\n",
              "      <td>451535</td>\n",
              "    </tr>\n",
              "    <tr>\n",
              "      <th>11</th>\n",
              "      <td>Gujarat</td>\n",
              "      <td>330858</td>\n",
              "    </tr>\n",
              "    <tr>\n",
              "      <th>6</th>\n",
              "      <td>Chhattisgarh</td>\n",
              "      <td>302354</td>\n",
              "    </tr>\n",
              "    <tr>\n",
              "      <th>25</th>\n",
              "      <td>Odisha</td>\n",
              "      <td>267234</td>\n",
              "    </tr>\n",
              "    <tr>\n",
              "      <th>28</th>\n",
              "      <td>Rajasthan</td>\n",
              "      <td>255134</td>\n",
              "    </tr>\n",
              "    <tr>\n",
              "      <th>35</th>\n",
              "      <td>Uttar Pradesh</td>\n",
              "      <td>233352</td>\n",
              "    </tr>\n",
              "    <tr>\n",
              "      <th>3</th>\n",
              "      <td>Assam</td>\n",
              "      <td>172276</td>\n",
              "    </tr>\n",
              "    <tr>\n",
              "      <th>12</th>\n",
              "      <td>Haryana</td>\n",
              "      <td>147176</td>\n",
              "    </tr>\n",
              "    <tr>\n",
              "      <th>9</th>\n",
              "      <td>Delhi (Ut)</td>\n",
              "      <td>84272</td>\n",
              "    </tr>\n",
              "    <tr>\n",
              "      <th>33</th>\n",
              "      <td>Total (Uts)</td>\n",
              "      <td>53836</td>\n",
              "    </tr>\n",
              "    <tr>\n",
              "      <th>15</th>\n",
              "      <td>Jharkhand</td>\n",
              "      <td>49720</td>\n",
              "    </tr>\n",
              "    <tr>\n",
              "      <th>27</th>\n",
              "      <td>Punjab</td>\n",
              "      <td>46350</td>\n",
              "    </tr>\n",
              "    <tr>\n",
              "      <th>4</th>\n",
              "      <td>Bihar</td>\n",
              "      <td>46214</td>\n",
              "    </tr>\n",
              "    <tr>\n",
              "      <th>34</th>\n",
              "      <td>Tripura</td>\n",
              "      <td>45965</td>\n",
              "    </tr>\n",
              "    <tr>\n",
              "      <th>26</th>\n",
              "      <td>Puducherry</td>\n",
              "      <td>32144</td>\n",
              "    </tr>\n",
              "    <tr>\n",
              "      <th>13</th>\n",
              "      <td>Himachal Pradesh</td>\n",
              "      <td>26562</td>\n",
              "    </tr>\n",
              "    <tr>\n",
              "      <th>36</th>\n",
              "      <td>Uttarakhand</td>\n",
              "      <td>18496</td>\n",
              "    </tr>\n",
              "    <tr>\n",
              "      <th>10</th>\n",
              "      <td>Goa</td>\n",
              "      <td>17363</td>\n",
              "    </tr>\n",
              "    <tr>\n",
              "      <th>14</th>\n",
              "      <td>Jammu &amp; Kashmir</td>\n",
              "      <td>14821</td>\n",
              "    </tr>\n",
              "    <tr>\n",
              "      <th>29</th>\n",
              "      <td>Sikkim</td>\n",
              "      <td>9606</td>\n",
              "    </tr>\n",
              "    <tr>\n",
              "      <th>0</th>\n",
              "      <td>A &amp; N Islands</td>\n",
              "      <td>8109</td>\n",
              "    </tr>\n",
              "    <tr>\n",
              "      <th>2</th>\n",
              "      <td>Arunachal Pradesh</td>\n",
              "      <td>6633</td>\n",
              "    </tr>\n",
              "    <tr>\n",
              "      <th>22</th>\n",
              "      <td>Meghalaya</td>\n",
              "      <td>5415</td>\n",
              "    </tr>\n",
              "    <tr>\n",
              "      <th>5</th>\n",
              "      <td>Chandigarh</td>\n",
              "      <td>5164</td>\n",
              "    </tr>\n",
              "    <tr>\n",
              "      <th>23</th>\n",
              "      <td>Mizoram</td>\n",
              "      <td>4154</td>\n",
              "    </tr>\n",
              "    <tr>\n",
              "      <th>7</th>\n",
              "      <td>D &amp; N Haveli</td>\n",
              "      <td>3430</td>\n",
              "    </tr>\n",
              "    <tr>\n",
              "      <th>21</th>\n",
              "      <td>Manipur</td>\n",
              "      <td>2102</td>\n",
              "    </tr>\n",
              "    <tr>\n",
              "      <th>24</th>\n",
              "      <td>Nagaland</td>\n",
              "      <td>1728</td>\n",
              "    </tr>\n",
              "    <tr>\n",
              "      <th>8</th>\n",
              "      <td>Daman &amp; Diu</td>\n",
              "      <td>1391</td>\n",
              "    </tr>\n",
              "    <tr>\n",
              "      <th>18</th>\n",
              "      <td>Lakshadweep</td>\n",
              "      <td>50</td>\n",
              "    </tr>\n",
              "  </tbody>\n",
              "</table>\n",
              "</div>"
            ],
            "text/plain": [
              "                State    Total\n",
              "31  Total (All India)  2911862\n",
              "32     Total (States)  2858026\n",
              "20        Maharashtra   901945\n",
              "37        West Bengal   849936\n",
              "30         Tamil Nadu   818691\n",
              "1      Andhra Pradesh   814059\n",
              "16          Karnataka   734825\n",
              "17             Kerala   538946\n",
              "19     Madhya Pradesh   451535\n",
              "11            Gujarat   330858\n",
              "6        Chhattisgarh   302354\n",
              "25             Odisha   267234\n",
              "28          Rajasthan   255134\n",
              "35      Uttar Pradesh   233352\n",
              "3               Assam   172276\n",
              "12            Haryana   147176\n",
              "9          Delhi (Ut)    84272\n",
              "33        Total (Uts)    53836\n",
              "15          Jharkhand    49720\n",
              "27             Punjab    46350\n",
              "4               Bihar    46214\n",
              "34            Tripura    45965\n",
              "26         Puducherry    32144\n",
              "13   Himachal Pradesh    26562\n",
              "36        Uttarakhand    18496\n",
              "10                Goa    17363\n",
              "14    Jammu & Kashmir    14821\n",
              "29             Sikkim     9606\n",
              "0       A & N Islands     8109\n",
              "2   Arunachal Pradesh     6633\n",
              "22          Meghalaya     5415\n",
              "5          Chandigarh     5164\n",
              "23            Mizoram     4154\n",
              "7        D & N Haveli     3430\n",
              "21            Manipur     2102\n",
              "24           Nagaland     1728\n",
              "8         Daman & Diu     1391\n",
              "18        Lakshadweep       50"
            ]
          },
          "metadata": {},
          "execution_count": 26
        }
      ]
    },
    {
      "cell_type": "code",
      "metadata": {
        "colab": {
          "base_uri": "https://localhost:8080/"
        },
        "id": "qsABrlggkwna",
        "outputId": "5ee9723f-8b8a-4b81-ed26-c27db696240d"
      },
      "source": [
        "bystate['Total'].sum()"
      ],
      "execution_count": 27,
      "outputs": [
        {
          "output_type": "execute_result",
          "data": {
            "text/plain": [
              "13071734"
            ]
          },
          "metadata": {},
          "execution_count": 27
        }
      ]
    },
    {
      "cell_type": "code",
      "metadata": {
        "colab": {
          "base_uri": "https://localhost:8080/",
          "height": 297
        },
        "id": "I58jQreXk4Kj",
        "outputId": "4722bdf5-6ad8-41a8-981d-4ef316c97702"
      },
      "source": [
        "plt.figure(figsize=(12,4))\n",
        "sns.barplot(x='State',y='Total',data=bystate)\n",
        "plt.xticks(rotation=90)\n",
        "plt.tight_layout()\n",
        "plt.show()"
      ],
      "execution_count": 28,
      "outputs": [
        {
          "output_type": "display_data",
          "data": {
            "image/png": "[encoded data removed]",
            "text/plain": [
              "<Figure size 864x288 with 1 Axes>"
            ]
          },
          "metadata": {
            "needs_background": "light"
          }
        }
      ]
    },
    {
      "cell_type": "code",
      "metadata": {
        "colab": {
          "base_uri": "https://localhost:8080/",
          "height": 234
        },
        "id": "j18j2dNElZqg",
        "outputId": "352928ad-02da-4f8f-d60c-c42ca26b8ca7"
      },
      "source": [
        "byage = pd.DataFrame(data.groupby('Age_group')['Total'].sum())\n",
        "byage = byage.reset_index()\n",
        "byage"
      ],
      "execution_count": 29,
      "outputs": [
        {
          "output_type": "execute_result",
          "data": {
            "text/html": [
              "<div>\n",
              "<style scoped>\n",
              "    .dataframe tbody tr th:only-of-type {\n",
              "        vertical-align: middle;\n",
              "    }\n",
              "\n",
              "    .dataframe tbody tr th {\n",
              "        vertical-align: top;\n",
              "    }\n",
              "\n",
              "    .dataframe thead th {\n",
              "        text-align: right;\n",
              "    }\n",
              "</style>\n",
              "<table border=\"1\" class=\"dataframe\">\n",
              "  <thead>\n",
              "    <tr style=\"text-align: right;\">\n",
              "      <th></th>\n",
              "      <th>Age_group</th>\n",
              "      <th>Total</th>\n",
              "    </tr>\n",
              "  </thead>\n",
              "  <tbody>\n",
              "    <tr>\n",
              "      <th>0</th>\n",
              "      <td>0-100+</td>\n",
              "      <td>8735586</td>\n",
              "    </tr>\n",
              "    <tr>\n",
              "      <th>1</th>\n",
              "      <td>0-14</td>\n",
              "      <td>98410</td>\n",
              "    </tr>\n",
              "    <tr>\n",
              "      <th>2</th>\n",
              "      <td>15-29</td>\n",
              "      <td>1534037</td>\n",
              "    </tr>\n",
              "    <tr>\n",
              "      <th>3</th>\n",
              "      <td>30-44</td>\n",
              "      <td>1471599</td>\n",
              "    </tr>\n",
              "    <tr>\n",
              "      <th>4</th>\n",
              "      <td>45-59</td>\n",
              "      <td>885177</td>\n",
              "    </tr>\n",
              "    <tr>\n",
              "      <th>5</th>\n",
              "      <td>60+</td>\n",
              "      <td>346925</td>\n",
              "    </tr>\n",
              "  </tbody>\n",
              "</table>\n",
              "</div>"
            ],
            "text/plain": [
              "  Age_group    Total\n",
              "0    0-100+  8735586\n",
              "1      0-14    98410\n",
              "2     15-29  1534037\n",
              "3     30-44  1471599\n",
              "4     45-59   885177\n",
              "5       60+   346925"
            ]
          },
          "metadata": {},
          "execution_count": 29
        }
      ]
    },
    {
      "cell_type": "code",
      "metadata": {
        "colab": {
          "base_uri": "https://localhost:8080/",
          "height": 297
        },
        "id": "hBc3WffhmA1h",
        "outputId": "f8f32fc5-8649-47d9-cc60-a45e70fcb442"
      },
      "source": [
        "plt.figure(figsize=(12,4))\n",
        "sns.barplot(x='Age_group',y='Total',data=byage)\n",
        "plt.tight_layout()\n",
        "plt.show()"
      ],
      "execution_count": 30,
      "outputs": [
        {
          "output_type": "display_data",
          "data": {
            "image/png": "[encoded data removed]",
            "text/plain": [
              "<Figure size 864x288 with 1 Axes>"
            ]
          },
          "metadata": {
            "needs_background": "light"
          }
        }
      ]
    },
    {
      "cell_type": "code",
      "metadata": {
        "colab": {
          "base_uri": "https://localhost:8080/",
          "height": 418
        },
        "id": "ttu1-ogcmkhE",
        "outputId": "92098a6b-851f-475e-d77f-6aa28d98c84f"
      },
      "source": [
        "byyear = pd.DataFrame(data.groupby('Year')['Total'].sum())\n",
        "byyear = byyear.reset_index()\n",
        "byyear"
      ],
      "execution_count": 31,
      "outputs": [
        {
          "output_type": "execute_result",
          "data": {
            "text/html": [
              "<div>\n",
              "<style scoped>\n",
              "    .dataframe tbody tr th:only-of-type {\n",
              "        vertical-align: middle;\n",
              "    }\n",
              "\n",
              "    .dataframe tbody tr th {\n",
              "        vertical-align: top;\n",
              "    }\n",
              "\n",
              "    .dataframe thead th {\n",
              "        text-align: right;\n",
              "    }\n",
              "</style>\n",
              "<table border=\"1\" class=\"dataframe\">\n",
              "  <thead>\n",
              "    <tr style=\"text-align: right;\">\n",
              "      <th></th>\n",
              "      <th>Year</th>\n",
              "      <th>Total</th>\n",
              "    </tr>\n",
              "  </thead>\n",
              "  <tbody>\n",
              "    <tr>\n",
              "      <th>0</th>\n",
              "      <td>2001</td>\n",
              "      <td>976464</td>\n",
              "    </tr>\n",
              "    <tr>\n",
              "      <th>1</th>\n",
              "      <td>2002</td>\n",
              "      <td>993648</td>\n",
              "    </tr>\n",
              "    <tr>\n",
              "      <th>2</th>\n",
              "      <td>2003</td>\n",
              "      <td>997622</td>\n",
              "    </tr>\n",
              "    <tr>\n",
              "      <th>3</th>\n",
              "      <td>2004</td>\n",
              "      <td>1023137</td>\n",
              "    </tr>\n",
              "    <tr>\n",
              "      <th>4</th>\n",
              "      <td>2005</td>\n",
              "      <td>1025201</td>\n",
              "    </tr>\n",
              "    <tr>\n",
              "      <th>5</th>\n",
              "      <td>2006</td>\n",
              "      <td>1062991</td>\n",
              "    </tr>\n",
              "    <tr>\n",
              "      <th>6</th>\n",
              "      <td>2007</td>\n",
              "      <td>1103667</td>\n",
              "    </tr>\n",
              "    <tr>\n",
              "      <th>7</th>\n",
              "      <td>2008</td>\n",
              "      <td>1125082</td>\n",
              "    </tr>\n",
              "    <tr>\n",
              "      <th>8</th>\n",
              "      <td>2009</td>\n",
              "      <td>1144033</td>\n",
              "    </tr>\n",
              "    <tr>\n",
              "      <th>9</th>\n",
              "      <td>2010</td>\n",
              "      <td>1211322</td>\n",
              "    </tr>\n",
              "    <tr>\n",
              "      <th>10</th>\n",
              "      <td>2011</td>\n",
              "      <td>1219499</td>\n",
              "    </tr>\n",
              "    <tr>\n",
              "      <th>11</th>\n",
              "      <td>2012</td>\n",
              "      <td>1189068</td>\n",
              "    </tr>\n",
              "  </tbody>\n",
              "</table>\n",
              "</div>"
            ],
            "text/plain": [
              "    Year    Total\n",
              "0   2001   976464\n",
              "1   2002   993648\n",
              "2   2003   997622\n",
              "3   2004  1023137\n",
              "4   2005  1025201\n",
              "5   2006  1062991\n",
              "6   2007  1103667\n",
              "7   2008  1125082\n",
              "8   2009  1144033\n",
              "9   2010  1211322\n",
              "10  2011  1219499\n",
              "11  2012  1189068"
            ]
          },
          "metadata": {},
          "execution_count": 31
        }
      ]
    },
    {
      "cell_type": "code",
      "metadata": {
        "colab": {
          "base_uri": "https://localhost:8080/",
          "height": 297
        },
        "id": "OONdOlt3nft9",
        "outputId": "4d790bf9-8a97-44ae-e831-cbfbf80b75d0"
      },
      "source": [
        "plt.figure(figsize=(12,4))\n",
        "sns.barplot(x='Year',y='Total',data=byyear)\n",
        "plt.tight_layout()\n",
        "plt.show()"
      ],
      "execution_count": 32,
      "outputs": [
        {
          "output_type": "display_data",
          "data": {
            "image/png": "[encoded data removed]",
            "text/plain": [
              "<Figure size 864x288 with 1 Axes>"
            ]
          },
          "metadata": {
            "needs_background": "light"
          }
        }
      ]
    },
    {
      "cell_type": "code",
      "metadata": {
        "colab": {
          "base_uri": "https://localhost:8080/",
          "height": 528
        },
        "id": "5gZw9ILen_77",
        "outputId": "9a732831-fbe2-405a-8435-e11f4823d9c9"
      },
      "source": [
        "plt.figure(figsize=(12,8))\n",
        "plt.title('Yearly Males & Females Sucides rate')\n",
        "ax = sns.barplot(x = 'Year', y = 'Total', hue = 'Gender',data=df)\n",
        "plt.xticks(rotation=90)\n",
        "plt.show()"
      ],
      "execution_count": 33,
      "outputs": [
        {
          "output_type": "display_data",
          "data": {
            "image/png": "[encoded data removed]",
            "text/plain": [
              "<Figure size 864x576 with 1 Axes>"
            ]
          },
          "metadata": {
            "needs_background": "light"
          }
        }
      ]
    },
    {
      "cell_type": "code",
      "metadata": {
        "colab": {
          "base_uri": "https://localhost:8080/",
          "height": 1000
        },
        "id": "hilH70DPtKdC",
        "outputId": "4d7aac2b-5b76-41fb-8604-0dd9b381738d"
      },
      "source": [
        "plt.figure(figsize=(20,15))\n",
        "plt.title('Type of Reasons for Suicides')\n",
        "ax = sns.barplot(x = 'Type', y = 'Total', data = df)\n",
        "plt.xticks(rotation=90)\n",
        "plt.show()"
      ],
      "execution_count": 34,
      "outputs": [
        {
          "output_type": "display_data",
          "data": {
            "image/png": "[encoded data removed]",
            "text/plain": [
              "<Figure size 1440x1080 with 1 Axes>"
            ]
          },
          "metadata": {
            "needs_background": "light"
          }
        }
      ]
    },
    {
      "cell_type": "code",
      "metadata": {
        "colab": {
          "base_uri": "https://localhost:8080/",
          "height": 308
        },
        "id": "OKnM6e8AuSiz",
        "outputId": "0f9ecb3d-ae96-4c09-e899-2b043bfb64ac"
      },
      "source": [
        "x = pd.DataFrame(df.groupby(['Age_group','Gender'])['Total'].sum())\n",
        "plt.figure(figsize=(10,4))\n",
        "sns.set_style('darkgrid')\n",
        "sns.lineplot(x='Age_group', y='Total', data=x, hue= 'Gender')"
      ],
      "execution_count": 35,
      "outputs": [
        {
          "output_type": "execute_result",
          "data": {
            "text/plain": [
              "<matplotlib.axes._subplots.AxesSubplot at 0x7f5c9e21d990>"
            ]
          },
          "metadata": {},
          "execution_count": 35
        },
        {
          "output_type": "display_data",
          "data": {
            "image/png": "[encoded data removed]",
            "text/plain": [
              "<Figure size 720x288 with 1 Axes>"
            ]
          },
          "metadata": {
            "needs_background": "light"
          }
        }
      ]
    },
    {
      "cell_type": "code",
      "metadata": {
        "id": "C3d2WgJ8JpuY",
        "colab": {
          "base_uri": "https://localhost:8080/"
        },
        "outputId": "941e54db-b896-4f26-e5a9-b55e27064f8b"
      },
      "source": [
        "data.duplicated()"
      ],
      "execution_count": 36,
      "outputs": [
        {
          "output_type": "execute_result",
          "data": {
            "text/plain": [
              "0         False\n",
              "1         False\n",
              "2         False\n",
              "3         False\n",
              "4         False\n",
              "          ...  \n",
              "237514    False\n",
              "237515    False\n",
              "237516    False\n",
              "237517    False\n",
              "237518    False\n",
              "Length: 237519, dtype: bool"
            ]
          },
          "metadata": {},
          "execution_count": 36
        }
      ]
    },
    {
      "cell_type": "code",
      "metadata": {
        "colab": {
          "base_uri": "https://localhost:8080/",
          "height": 203
        },
        "id": "0a-hlONGA_gZ",
        "outputId": "f31a076e-4805-4f11-bcb3-ba685ceddb11"
      },
      "source": [
        "x = data.drop([\"State\",\"Type\",\"Age_group\"],axis=1)\n",
        "x.head()"
      ],
      "execution_count": 40,
      "outputs": [
        {
          "output_type": "execute_result",
          "data": {
            "text/html": [
              "<div>\n",
              "<style scoped>\n",
              "    .dataframe tbody tr th:only-of-type {\n",
              "        vertical-align: middle;\n",
              "    }\n",
              "\n",
              "    .dataframe tbody tr th {\n",
              "        vertical-align: top;\n",
              "    }\n",
              "\n",
              "    .dataframe thead th {\n",
              "        text-align: right;\n",
              "    }\n",
              "</style>\n",
              "<table border=\"1\" class=\"dataframe\">\n",
              "  <thead>\n",
              "    <tr style=\"text-align: right;\">\n",
              "      <th></th>\n",
              "      <th>Year</th>\n",
              "      <th>Type_code</th>\n",
              "      <th>Gender</th>\n",
              "      <th>Total</th>\n",
              "    </tr>\n",
              "  </thead>\n",
              "  <tbody>\n",
              "    <tr>\n",
              "      <th>0</th>\n",
              "      <td>2001</td>\n",
              "      <td>Causes</td>\n",
              "      <td>2</td>\n",
              "      <td>0</td>\n",
              "    </tr>\n",
              "    <tr>\n",
              "      <th>1</th>\n",
              "      <td>2001</td>\n",
              "      <td>Causes</td>\n",
              "      <td>2</td>\n",
              "      <td>0</td>\n",
              "    </tr>\n",
              "    <tr>\n",
              "      <th>2</th>\n",
              "      <td>2001</td>\n",
              "      <td>Causes</td>\n",
              "      <td>2</td>\n",
              "      <td>0</td>\n",
              "    </tr>\n",
              "    <tr>\n",
              "      <th>3</th>\n",
              "      <td>2001</td>\n",
              "      <td>Causes</td>\n",
              "      <td>2</td>\n",
              "      <td>0</td>\n",
              "    </tr>\n",
              "    <tr>\n",
              "      <th>4</th>\n",
              "      <td>2001</td>\n",
              "      <td>Causes</td>\n",
              "      <td>2</td>\n",
              "      <td>0</td>\n",
              "    </tr>\n",
              "  </tbody>\n",
              "</table>\n",
              "</div>"
            ],
            "text/plain": [
              "   Year Type_code  Gender  Total\n",
              "0  2001    Causes       2      0\n",
              "1  2001    Causes       2      0\n",
              "2  2001    Causes       2      0\n",
              "3  2001    Causes       2      0\n",
              "4  2001    Causes       2      0"
            ]
          },
          "metadata": {},
          "execution_count": 40
        }
      ]
    },
    {
      "cell_type": "code",
      "metadata": {
        "colab": {
          "base_uri": "https://localhost:8080/"
        },
        "id": "RkYO-2TrBcLn",
        "outputId": "5532b700-8bef-4c91-c80e-5dec32da1607"
      },
      "source": [
        "y = data['Gender']\n",
        "y.head()"
      ],
      "execution_count": 46,
      "outputs": [
        {
          "output_type": "execute_result",
          "data": {
            "text/plain": [
              "0    2\n",
              "1    2\n",
              "2    2\n",
              "3    2\n",
              "4    2\n",
              "Name: Gender, dtype: int64"
            ]
          },
          "metadata": {},
          "execution_count": 46
        }
      ]
    },
    {
      "cell_type": "code",
      "metadata": {
        "id": "KIA_dXySBqZu"
      },
      "source": [
        "from sklearn.model_selection import train_test_split\n",
        "x_train, x_valid, y_train, y_valid = train_test_split(x,y, train_size=0.8, test_size=0.2)\n",
        "from sklearn.preprocessing import StandardScaler\n",
        "scaler=StandardScaler()"
      ],
      "execution_count": 54,
      "outputs": []
    },
    {
      "cell_type": "code",
      "metadata": {
        "colab": {
          "base_uri": "https://localhost:8080/"
        },
        "id": "hBf8psPQFnID",
        "outputId": "835c29b8-c4e4-4cc3-e48b-1089269d54e5"
      },
      "source": [
        "\n",
        "x_train,x_test,y_train,y_test = train_test_split(x,y,test_size=0.33, random_state=42)\n",
        "print(\"x_train :\",x_train.shape)\n",
        "print(\"x_test :\",x_test.shape)\n",
        "print(\"y_train :\",y_train.shape)\n",
        "print(\"y_test :\",y_test.shape)\n"
      ],
      "execution_count": 56,
      "outputs": [
        {
          "output_type": "stream",
          "name": "stdout",
          "text": [
            "x_train : (159137, 4)\n",
            "x_test : (78382, 4)\n",
            "y_train : (159137,)\n",
            "y_test : (78382,)\n"
          ]
        }
      ]
    },
    {
      "cell_type": "code",
      "metadata": {
        "colab": {
          "base_uri": "https://localhost:8080/",
          "height": 203
        },
        "id": "JiGxUCz-ExUZ",
        "outputId": "d12d74a7-0e1d-4875-ac70-00ae384fefda"
      },
      "source": [
        "x_train[:5]"
      ],
      "execution_count": 51,
      "outputs": [
        {
          "output_type": "execute_result",
          "data": {
            "text/html": [
              "<div>\n",
              "<style scoped>\n",
              "    .dataframe tbody tr th:only-of-type {\n",
              "        vertical-align: middle;\n",
              "    }\n",
              "\n",
              "    .dataframe tbody tr th {\n",
              "        vertical-align: top;\n",
              "    }\n",
              "\n",
              "    .dataframe thead th {\n",
              "        text-align: right;\n",
              "    }\n",
              "</style>\n",
              "<table border=\"1\" class=\"dataframe\">\n",
              "  <thead>\n",
              "    <tr style=\"text-align: right;\">\n",
              "      <th></th>\n",
              "      <th>Year</th>\n",
              "      <th>Type_code</th>\n",
              "      <th>Gender</th>\n",
              "      <th>Total</th>\n",
              "    </tr>\n",
              "  </thead>\n",
              "  <tbody>\n",
              "    <tr>\n",
              "      <th>102498</th>\n",
              "      <td>2003</td>\n",
              "      <td>Causes</td>\n",
              "      <td>2</td>\n",
              "      <td>0</td>\n",
              "    </tr>\n",
              "    <tr>\n",
              "      <th>89399</th>\n",
              "      <td>2003</td>\n",
              "      <td>Professional_Profile</td>\n",
              "      <td>2</td>\n",
              "      <td>0</td>\n",
              "    </tr>\n",
              "    <tr>\n",
              "      <th>69376</th>\n",
              "      <td>2004</td>\n",
              "      <td>Causes</td>\n",
              "      <td>1</td>\n",
              "      <td>1</td>\n",
              "    </tr>\n",
              "    <tr>\n",
              "      <th>62234</th>\n",
              "      <td>2003</td>\n",
              "      <td>Means_adopted</td>\n",
              "      <td>1</td>\n",
              "      <td>0</td>\n",
              "    </tr>\n",
              "    <tr>\n",
              "      <th>225340</th>\n",
              "      <td>2003</td>\n",
              "      <td>Causes</td>\n",
              "      <td>2</td>\n",
              "      <td>0</td>\n",
              "    </tr>\n",
              "  </tbody>\n",
              "</table>\n",
              "</div>"
            ],
            "text/plain": [
              "        Year             Type_code  Gender  Total\n",
              "102498  2003                Causes       2      0\n",
              "89399   2003  Professional_Profile       2      0\n",
              "69376   2004                Causes       1      1\n",
              "62234   2003         Means_adopted       1      0\n",
              "225340  2003                Causes       2      0"
            ]
          },
          "metadata": {},
          "execution_count": 51
        }
      ]
    },
    {
      "cell_type": "code",
      "metadata": {
        "colab": {
          "base_uri": "https://localhost:8080/"
        },
        "id": "y8n-ve0zFTMn",
        "outputId": "a8238c5c-b31b-4734-b7ae-8c4ea2045e91"
      },
      "source": [
        "y_train[:5]"
      ],
      "execution_count": 52,
      "outputs": [
        {
          "output_type": "execute_result",
          "data": {
            "text/plain": [
              "102498    2\n",
              "89399     2\n",
              "69376     1\n",
              "62234     1\n",
              "225340    2\n",
              "Name: Gender, dtype: int64"
            ]
          },
          "metadata": {},
          "execution_count": 52
        }
      ]
    },
    {
      "cell_type": "code",
      "metadata": {
        "colab": {
          "base_uri": "https://localhost:8080/",
          "height": 417
        },
        "id": "T1OQeMwjFZnr",
        "outputId": "d5d88c5f-d661-4a0b-cc52-933efd3103da"
      },
      "source": [
        "x_test"
      ],
      "execution_count": 57,
      "outputs": [
        {
          "output_type": "execute_result",
          "data": {
            "text/html": [
              "<div>\n",
              "<style scoped>\n",
              "    .dataframe tbody tr th:only-of-type {\n",
              "        vertical-align: middle;\n",
              "    }\n",
              "\n",
              "    .dataframe tbody tr th {\n",
              "        vertical-align: top;\n",
              "    }\n",
              "\n",
              "    .dataframe thead th {\n",
              "        text-align: right;\n",
              "    }\n",
              "</style>\n",
              "<table border=\"1\" class=\"dataframe\">\n",
              "  <thead>\n",
              "    <tr style=\"text-align: right;\">\n",
              "      <th></th>\n",
              "      <th>Year</th>\n",
              "      <th>Type_code</th>\n",
              "      <th>Gender</th>\n",
              "      <th>Total</th>\n",
              "    </tr>\n",
              "  </thead>\n",
              "  <tbody>\n",
              "    <tr>\n",
              "      <th>1398</th>\n",
              "      <td>2003</td>\n",
              "      <td>Means_adopted</td>\n",
              "      <td>2</td>\n",
              "      <td>0</td>\n",
              "    </tr>\n",
              "    <tr>\n",
              "      <th>115170</th>\n",
              "      <td>2001</td>\n",
              "      <td>Causes</td>\n",
              "      <td>1</td>\n",
              "      <td>120</td>\n",
              "    </tr>\n",
              "    <tr>\n",
              "      <th>79573</th>\n",
              "      <td>2010</td>\n",
              "      <td>Causes</td>\n",
              "      <td>1</td>\n",
              "      <td>7</td>\n",
              "    </tr>\n",
              "    <tr>\n",
              "      <th>66738</th>\n",
              "      <td>2011</td>\n",
              "      <td>Means_adopted</td>\n",
              "      <td>2</td>\n",
              "      <td>0</td>\n",
              "    </tr>\n",
              "    <tr>\n",
              "      <th>201159</th>\n",
              "      <td>2010</td>\n",
              "      <td>Causes</td>\n",
              "      <td>2</td>\n",
              "      <td>2</td>\n",
              "    </tr>\n",
              "    <tr>\n",
              "      <th>...</th>\n",
              "      <td>...</td>\n",
              "      <td>...</td>\n",
              "      <td>...</td>\n",
              "      <td>...</td>\n",
              "    </tr>\n",
              "    <tr>\n",
              "      <th>7994</th>\n",
              "      <td>2003</td>\n",
              "      <td>Causes</td>\n",
              "      <td>1</td>\n",
              "      <td>11</td>\n",
              "    </tr>\n",
              "    <tr>\n",
              "      <th>223309</th>\n",
              "      <td>2011</td>\n",
              "      <td>Professional_Profile</td>\n",
              "      <td>1</td>\n",
              "      <td>0</td>\n",
              "    </tr>\n",
              "    <tr>\n",
              "      <th>26664</th>\n",
              "      <td>2012</td>\n",
              "      <td>Causes</td>\n",
              "      <td>1</td>\n",
              "      <td>0</td>\n",
              "    </tr>\n",
              "    <tr>\n",
              "      <th>183379</th>\n",
              "      <td>2002</td>\n",
              "      <td>Professional_Profile</td>\n",
              "      <td>2</td>\n",
              "      <td>0</td>\n",
              "    </tr>\n",
              "    <tr>\n",
              "      <th>118974</th>\n",
              "      <td>2008</td>\n",
              "      <td>Causes</td>\n",
              "      <td>2</td>\n",
              "      <td>55</td>\n",
              "    </tr>\n",
              "  </tbody>\n",
              "</table>\n",
              "<p>78382 rows × 4 columns</p>\n",
              "</div>"
            ],
            "text/plain": [
              "        Year             Type_code  Gender  Total\n",
              "1398    2003         Means_adopted       2      0\n",
              "115170  2001                Causes       1    120\n",
              "79573   2010                Causes       1      7\n",
              "66738   2011         Means_adopted       2      0\n",
              "201159  2010                Causes       2      2\n",
              "...      ...                   ...     ...    ...\n",
              "7994    2003                Causes       1     11\n",
              "223309  2011  Professional_Profile       1      0\n",
              "26664   2012                Causes       1      0\n",
              "183379  2002  Professional_Profile       2      0\n",
              "118974  2008                Causes       2     55\n",
              "\n",
              "[78382 rows x 4 columns]"
            ]
          },
          "metadata": {},
          "execution_count": 57
        }
      ]
    },
    {
      "cell_type": "markdown",
      "metadata": {
        "id": "4YTbe7a4QRgl"
      },
      "source": [
        "# MACHINE LEARNING MODELS\n",
        "MODELS INCLUDING FITTING,PREDICTING AND ACCURACY\n",
        "\n",
        "Model -1: Random Forest"
      ]
    },
    {
      "cell_type": "code",
      "metadata": {
        "id": "YhH5xWlaQWRh"
      },
      "source": [
        "from sklearn.preprocessing import LabelEncoder\n",
        "from sklearn.model_selection import train_test_split\n",
        "from sklearn.metrics import classification_report,confusion_matrix\n",
        "from sklearn import metrics"
      ],
      "execution_count": 67,
      "outputs": []
    },
    {
      "cell_type": "code",
      "metadata": {
        "colab": {
          "base_uri": "https://localhost:8080/"
        },
        "id": "hvKrGqMPQavg",
        "outputId": "4aef7fa7-3122-49c7-c992-f2bd2546ed0c"
      },
      "source": [
        "x_train,x_test,y_train,y_test=train_test_split(x,y,test_size=0.2)\n",
        "print('Training split input-',x_train.shape)\n",
        "print('Traning split input-',x_test.shape)\n"
      ],
      "execution_count": 68,
      "outputs": [
        {
          "output_type": "stream",
          "name": "stdout",
          "text": [
            "Training split input- (190015, 4)\n",
            "Traning split input- (47504, 4)\n"
          ]
        }
      ]
    },
    {
      "cell_type": "code",
      "metadata": {
        "colab": {
          "base_uri": "https://localhost:8080/"
        },
        "id": "h84WnAWjQf1i",
        "outputId": "511cb88f-02c9-412c-efa1-d8dfbd2d1b89"
      },
      "source": [
        "from sklearn.ensemble import RandomForestRegressor\n",
        "model = RandomForestRegressor()\n",
        "print('RandomForestRegressor created')"
      ],
      "execution_count": 69,
      "outputs": [
        {
          "output_type": "stream",
          "name": "stdout",
          "text": [
            "RandomForestRegressor created\n"
          ]
        }
      ]
    },
    {
      "cell_type": "code",
      "metadata": {
        "id": "LKPICP58QrqD"
      },
      "source": [
        "from sklearn.datasets import make_classification\n",
        "from sklearn.model_selection import train_test_split\n",
        "from sklearn.preprocessing import StandardScaler\n",
        "from sklearn.neighbors import KNeighborsClassifier \n",
        "from sklearn import metrics"
      ],
      "execution_count": 71,
      "outputs": []
    },
    {
      "cell_type": "code",
      "metadata": {
        "colab": {
          "base_uri": "https://localhost:8080/"
        },
        "id": "VJv-s8HcQvOV",
        "outputId": "c84e9731-78bc-458e-cfc8-712697754c2c"
      },
      "source": [
        "x_train,x_test,y_train,y_test=train_test_split(x,y,test_size=0.2)\n",
        "print('Training split input-',x_train.shape)\n",
        "print('Traning split input-',x_test.shape)"
      ],
      "execution_count": 72,
      "outputs": [
        {
          "output_type": "stream",
          "name": "stdout",
          "text": [
            "Training split input- (190015, 4)\n",
            "Traning split input- (47504, 4)\n"
          ]
        }
      ]
    },
    {
      "cell_type": "code",
      "metadata": {
        "id": "B0cHuTjNQ1_z"
      },
      "source": [
        "from sklearn.linear_model import LinearRegression\n",
        "model = LinearRegression()"
      ],
      "execution_count": 77,
      "outputs": []
    },
    {
      "cell_type": "code",
      "metadata": {
        "colab": {
          "base_uri": "https://localhost:8080/"
        },
        "id": "QRQYdh46ROZ7",
        "outputId": "542b98f5-f75d-48c9-90c1-deaaa3ea79a5"
      },
      "source": [
        "preds=data\n",
        "print(preds)"
      ],
      "execution_count": 78,
      "outputs": [
        {
          "output_type": "stream",
          "name": "stdout",
          "text": [
            "                State  Year      Type_code  ... Gender  Age_group Total\n",
            "0       A & N Islands  2001         Causes  ...      2       0-14     0\n",
            "1       A & N Islands  2001         Causes  ...      2       0-14     0\n",
            "2       A & N Islands  2001         Causes  ...      2       0-14     0\n",
            "3       A & N Islands  2001         Causes  ...      2       0-14     0\n",
            "4       A & N Islands  2001         Causes  ...      2       0-14     0\n",
            "...               ...   ...            ...  ...    ...        ...   ...\n",
            "237514    West Bengal  2012  Social_Status  ...      1     0-100+   149\n",
            "237515    West Bengal  2012  Social_Status  ...      1     0-100+   233\n",
            "237516    West Bengal  2012  Social_Status  ...      1     0-100+  5451\n",
            "237517    West Bengal  2012  Social_Status  ...      1     0-100+   189\n",
            "237518    West Bengal  2012  Social_Status  ...      1     0-100+  2658\n",
            "\n",
            "[237519 rows x 7 columns]\n"
          ]
        }
      ]
    },
    {
      "cell_type": "code",
      "metadata": {
        "colab": {
          "base_uri": "https://localhost:8080/"
        },
        "id": "7gYv-O7sRbEl",
        "outputId": "cda19ab5-d30b-4284-95a5-3ec3738e1b3b"
      },
      "source": [
        "x,y=make_classification(n_samples=200 ,n_features=8,n_informative=8,n_redundant=0,n_repeated=0,n_classes=2,random_state=14)\n",
        "x_train, x_test, y_train, y_test= train_test_split(x, y, test_size= 0.2,random_state=32)\n",
        "sc= StandardScaler()\n",
        "sc.fit(x_train)\n",
        "x_train= sc.transform(x_train)\n",
        "sc.fit(x_test)\n",
        "x_test= sc.transform(x_test)\n",
        "x.shape"
      ],
      "execution_count": 80,
      "outputs": [
        {
          "output_type": "execute_result",
          "data": {
            "text/plain": [
              "(200, 8)"
            ]
          },
          "metadata": {},
          "execution_count": 80
        }
      ]
    },
    {
      "cell_type": "code",
      "metadata": {
        "colab": {
          "base_uri": "https://localhost:8080/",
          "height": 296
        },
        "id": "6lSfU8mRQ-A0",
        "outputId": "102e3226-6a1d-4a85-aab1-11e37ca0af1b"
      },
      "source": [
        "error1= []\n",
        "error2= []\n",
        "for k in range(1,15):\n",
        "    knn= KNeighborsClassifier(n_neighbors=k)\n",
        "    knn.fit(x_train,y_train)\n",
        "    y_pred1= knn.predict(x_train)\n",
        "    error1.append(np.mean(y_train!= y_pred1))\n",
        "    y_pred2= knn.predict(x_test)\n",
        "    error2.append(np.mean(y_test!= y_pred2))\n",
        "plt.plot(range(1,15),error1,label=\"train\")\n",
        "plt.plot(range(1,15),error2,label=\"test\")\n",
        "plt.xlabel('k Value')\n",
        "plt.ylabel('Error')"
      ],
      "execution_count": 81,
      "outputs": [
        {
          "output_type": "execute_result",
          "data": {
            "text/plain": [
              "Text(0, 0.5, 'Error')"
            ]
          },
          "metadata": {},
          "execution_count": 81
        },
        {
          "output_type": "display_data",
          "data": {
            "image/png": "[encoded data removed]",
            "text/plain": [
              "<Figure size 432x288 with 1 Axes>"
            ]
          },
          "metadata": {}
        }
      ]
    },
    {
      "cell_type": "code",
      "metadata": {
        "colab": {
          "base_uri": "https://localhost:8080/"
        },
        "id": "2RlU71hYRltU",
        "outputId": "b1a5d8d5-1441-4114-bb22-fc31b50fb525"
      },
      "source": [
        "knn= KNeighborsClassifier(n_neighbors=6)\n",
        "knn.fit(x_train,y_train)\n",
        "y_pred= knn.predict(x_test)\n",
        "metrics.accuracy_score(y_test,y_pred)"
      ],
      "execution_count": 82,
      "outputs": [
        {
          "output_type": "execute_result",
          "data": {
            "text/plain": [
              "0.875"
            ]
          },
          "metadata": {},
          "execution_count": 82
        }
      ]
    },
    {
      "cell_type": "markdown",
      "metadata": {
        "id": "rH0fSwEERqBa"
      },
      "source": [
        "# SUMMARY"
      ]
    },
    {
      "cell_type": "markdown",
      "metadata": {
        "id": "vhNtgBBcRvNa"
      },
      "source": [
        "The dataset CROP PRODUCTION IN INDIA is downloaded from kaggle. This dataset provides a huge amount of information on crop production in India ranging from several years. Based on the Information the ultimate goal would be to predict crop production using powerful machine learning techniques.\n",
        "\n",
        "EXPLORATORY DATA ANALYSIS [EDA]::Exploratory Data Analysis is one of the most important and useful aspects of Machine Learning Operations. EDA is mostly used by Data Scientists to figure out the data and to get some insights from the data available.EDA basically helps you to analyze and visualize the data and get some necessary and useful insights from the data.\n",
        "\n",
        "DATA CLEANING Data cleaning is the process of fixing or removing incorrect, corrupted, incorrectly formatted, duplicate, or incomplete data within a dataset. When combining multiple data sources, there are many opportunities for data to be duplicated or mislabeled. If data is incorrect, outcomes and algorithms are unreliable, even though they may look correct. There is no one absolute way to prescribe the exact steps in the data cleaning process because the processes will vary from dataset to dataset.\n",
        "\n",
        "SPLIT YOUR DATA WITH 80-20%% The most common split ratio is 80:20. That is 80% of the dataset goes into the training set and 20% of the dataset goes into the testing set. Before splitting the data, make sure that the dataset is large enough. Train/Test split works well with large datasets.The train-test split procedure is used to estimate the performance of machine learning algorithms when they are used to make predictions on data not used to train the model. It is a fast and easy procedure to perform, the results of which allow you to compare the performance of machine learning algorithms for your predictive modeling problem."
      ]
    },
    {
      "cell_type": "markdown",
      "metadata": {
        "id": "YjtQv684Rwre"
      },
      "source": [
        "#MACHINE LEARNING MODELS"
      ]
    },
    {
      "cell_type": "markdown",
      "metadata": {
        "id": "uEL5I6RFR5ju"
      },
      "source": [
        "*Machine learning (ML) is a type of artificial intelligence (AI) that allows software applications to become more accurate at predicting outcomes without being explicitly programmed to do so. Machine learning algorithms use historical data as input to predict new output values.After model building, we are going to apply the model to make predictions followed by model performance evaluation and data visualization of its results.\n",
        "\n",
        "Here we use 3 machine learning models i.e;{1.Random Forest Regression; 2.Linear Regression; 3.K-Nearest Neighbours.\n",
        "\n",
        "Random Forest Regression: Random Forest is a classifier that contains a number of decision trees on various subsets of the given dataset and takes the average to improve the predictive accuracy of that dataset.\" Instead of relying on one decision tree, the random forest takes the prediction from each tree and based on the majority votes of predictions, and it predicts the final output.\n",
        "\n",
        "The greater number of trees in the forest leads to higher accuracy and prevents the problem of overfitting. The accuracy of the random forest regression is 60% in this project.\n",
        "\n",
        "K-Nearest Neighbours:K-Nearest Neighbors, or KNN for short, is one of the simplest machine learning algorithms and is used in a wide array of institutions. KNN is a non-parametric, lazy learning algorithm. When we say a technique is non-parametric, it means that it does not make any assumptions about the underlying data. In other words, it makes its selection based off of the proximity to other data points regardless of what feature the numerical values represent. Being a lazy learning algorithm implies that there is little to no training phase.K-Nearest Neighbors is one of the most basic yet essential classification algorithms in Machine Learning. It belongs to the supervised learning domain and finds intense application in pattern recognition, data mining and intrusion detection.We got 80% accuracy in this project.\n",
        "\n",
        "Linear Regression:linear regression was developed in the field of statistics and is studied as a model for understanding the relationship between input and output numerical variables, but has been borrowed by machine learning. It is both a statistical algorithm and a machine learning algorithm. It is a statistical method that is used for predictive analysis. Linear regression makes predictions for continuous/real or numeric variables such as sales, salary, age, product price, etc.We got 100% accuracy in this project."
      ]
    }
  ]
}