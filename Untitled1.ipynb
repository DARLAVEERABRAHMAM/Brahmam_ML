{
  "nbformat": 4,
  "nbformat_minor": 0,
  "metadata": {
    "colab": {
      "name": "Untitled1.ipynb",
      "provenance": [],
      "authorship_tag": "ABX9TyPTLlCEXpBwgiAJk8V9iIUc",
      "include_colab_link": true
    },
    "kernelspec": {
      "name": "python3",
      "display_name": "Python 3"
    },
    "language_info": {
      "name": "python"
    }
  },
  "cells": [
    {
      "cell_type": "markdown",
      "metadata": {
        "id": "view-in-github",
        "colab_type": "text"
      },
      "source": [
        "<a href=\"https://colab.research.google.com/github/DARLAVEERABRAHMAM/Brahmam_ML/blob/main/Untitled1.ipynb\" target=\"_parent\"><img src=\"https://colab.research.google.com/assets/colab-badge.svg\" alt=\"Open In Colab\"/></a>"
      ]
    },
    {
      "cell_type": "markdown",
      "metadata": {
        "id": "kpGs1RkR0SwX"
      },
      "source": [
        "Addition of two numbers"
      ]
    },
    {
      "cell_type": "code",
      "metadata": {
        "id": "uZ3O2MGn0Y7b"
      },
      "source": [
        "a=10\n",
        "b=20"
      ],
      "execution_count": 3,
      "outputs": []
    },
    {
      "cell_type": "code",
      "metadata": {
        "colab": {
          "base_uri": "https://localhost:8080/"
        },
        "id": "Q3Dapxr-0LIW",
        "outputId": "da1d0d7f-3b2d-4fd0-b4ef-dc7a83260775"
      },
      "source": [
        "print(a+b)"
      ],
      "execution_count": 4,
      "outputs": [
        {
          "output_type": "stream",
          "name": "stdout",
          "text": [
            "30\n"
          ]
        }
      ]
    },
    {
      "cell_type": "markdown",
      "metadata": {
        "id": "v1DaEiI90cZH"
      },
      "source": [
        "Subtraction of two numbers"
      ]
    },
    {
      "cell_type": "code",
      "metadata": {
        "id": "2dOts5c90gt5"
      },
      "source": [
        "a=80\n",
        "c=30"
      ],
      "execution_count": 5,
      "outputs": []
    },
    {
      "cell_type": "code",
      "metadata": {
        "colab": {
          "base_uri": "https://localhost:8080/"
        },
        "id": "LgAfaM_i0l-p",
        "outputId": "c458bb49-a1b1-471b-fd6e-a101629773a6"
      },
      "source": [
        "print(a-c)"
      ],
      "execution_count": 6,
      "outputs": [
        {
          "output_type": "stream",
          "name": "stdout",
          "text": [
            "50\n"
          ]
        }
      ]
    },
    {
      "cell_type": "markdown",
      "metadata": {
        "id": "vf9zUbx10qOw"
      },
      "source": [
        "Division of two numbers"
      ]
    },
    {
      "cell_type": "code",
      "metadata": {
        "id": "Y7MRjpxl0v69"
      },
      "source": [
        "a=50\n",
        "b=20"
      ],
      "execution_count": 7,
      "outputs": []
    },
    {
      "cell_type": "code",
      "metadata": {
        "colab": {
          "base_uri": "https://localhost:8080/"
        },
        "id": "PSzS6Xsk0z4I",
        "outputId": "06590e06-f1e1-4a59-daae-c26243e3ea8e"
      },
      "source": [
        "print(a/b)"
      ],
      "execution_count": 8,
      "outputs": [
        {
          "output_type": "stream",
          "name": "stdout",
          "text": [
            "2.5\n"
          ]
        }
      ]
    }
  ]
}